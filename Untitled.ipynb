{
 "cells": [
  {
   "cell_type": "code",
   "execution_count": 1,
   "id": "2e2f8203",
   "metadata": {},
   "outputs": [],
   "source": [
    "import json"
   ]
  },
  {
   "cell_type": "code",
   "execution_count": 2,
   "id": "07f8df07",
   "metadata": {},
   "outputs": [],
   "source": [
    "with open('/home/work/.dsproject/data/preprocessed/3_month_retail.json', 'r') as f:\n",
    "    info = json.load(f)"
   ]
  },
  {
   "cell_type": "code",
   "execution_count": 9,
   "id": "44f2c32c",
   "metadata": {},
   "outputs": [],
   "source": [
    "month_result = []\n",
    "month_num = len(info['1']['Bracket'])\n",
    "check_is_non = 0\n",
    "\n",
    "for i in range(month_num):\n",
    "    result = 0\n",
    "    for store_id in list(info.keys()):\n",
    "        for item in list(info[store_id].keys()):\n",
    "            result += info[store_id][item][i]\n",
    "\n",
    "    month_result.append(result)\n",
    "\n"
   ]
  },
  {
   "cell_type": "code",
   "execution_count": 10,
   "id": "0fcac2f4",
   "metadata": {},
   "outputs": [
    {
     "data": {
      "text/plain": [
       "0"
      ]
     },
     "execution_count": 10,
     "metadata": {},
     "output_type": "execute_result"
    }
   ],
   "source": [
    "check_is_non"
   ]
  },
  {
   "cell_type": "code",
   "execution_count": 12,
   "id": "17be5ad6",
   "metadata": {},
   "outputs": [
    {
     "data": {
      "text/plain": [
       "1"
      ]
     },
     "execution_count": 12,
     "metadata": {},
     "output_type": "execute_result"
    }
   ],
   "source": [
    "sum(info['1']['Bracket'])"
   ]
  },
  {
   "cell_type": "code",
   "execution_count": 8,
   "id": "7b9ee27a",
   "metadata": {},
   "outputs": [
    {
     "data": {
      "text/plain": [
       "[3667,\n",
       " 4861,\n",
       " 3725,\n",
       " 5930,\n",
       " 4088,\n",
       " 4831,\n",
       " 3999,\n",
       " 6278,\n",
       " 4168,\n",
       " 5628,\n",
       " 4537,\n",
       " 6602,\n",
       " 4317,\n",
       " 6046,\n",
       " 5659,\n",
       " 9080,\n",
       " 4176,\n",
       " 7094,\n",
       " 5439,\n",
       " 9409,\n",
       " 3699,\n",
       " 6827,\n",
       " 7969,\n",
       " 11032,\n",
       " 6409,\n",
       " 8175,\n",
       " 6194,\n",
       " 8415,\n",
       " 4314]"
      ]
     },
     "execution_count": 8,
     "metadata": {},
     "output_type": "execute_result"
    }
   ],
   "source": [
    "month_result"
   ]
  },
  {
   "cell_type": "code",
   "execution_count": 13,
   "id": "a6de958d",
   "metadata": {},
   "outputs": [],
   "source": [
    "# 상점의 아이템을 인덱싱해 들어가서 걔의 vector값 합이 0인경우...가 해당됨\n",
    "check = 0\n",
    "for store_id in list(info.keys()):\n",
    "    for item in list(info[store_id].keys()):\n",
    "        if sum(info[store_id][item]) == 0:\n",
    "            check += 1\n",
    "        "
   ]
  },
  {
   "cell_type": "code",
   "execution_count": 14,
   "id": "3ff523bc",
   "metadata": {},
   "outputs": [
    {
     "data": {
      "text/plain": [
       "2608"
      ]
     },
     "execution_count": 14,
     "metadata": {},
     "output_type": "execute_result"
    }
   ],
   "source": [
    "check"
   ]
  },
  {
   "cell_type": "code",
   "execution_count": 15,
   "id": "e86f6502",
   "metadata": {},
   "outputs": [],
   "source": [
    "# store / item 의 정보를 보관해놔야할거같은데 [[store, item], [store, item]...]\n",
    "checklist = []\n",
    "for store_id in list(info.keys()):\n",
    "    for item in list(info[store_id].keys()):\n",
    "        if sum(info[store_id][item]) == 0:\n",
    "            checklist.append([store_id, item])\n"
   ]
  },
  {
   "cell_type": "code",
   "execution_count": 17,
   "id": "90963234",
   "metadata": {},
   "outputs": [
    {
     "name": "stderr",
     "output_type": "stream",
     "text": [
      "/opt/conda/lib/python3.8/site-packages/pandas/compat/_optional.py:161: UserWarning: Pandas requires version '2.7.1' or newer of 'numexpr' (version '2.7.0' currently installed).\n",
      "  warnings.warn(msg, UserWarning)\n"
     ]
    }
   ],
   "source": [
    "import pandas as pd \n",
    "\n",
    "check_df = pd.DataFrame(checklist)"
   ]
  },
  {
   "cell_type": "code",
   "execution_count": 19,
   "id": "a2488ea5",
   "metadata": {},
   "outputs": [],
   "source": [
    "check_df.to_csv('/home/work/.dsproject/data/preprocessed/none_saled_item.csv')"
   ]
  },
  {
   "cell_type": "code",
   "execution_count": null,
   "id": "3afca2da",
   "metadata": {},
   "outputs": [],
   "source": [
    "# 새로운 3 month retail 을 만들어야할거같은데 => 그러면 mlp 다시 돌려볼수있지않나?\n",
    "# => 5000개면 쳐내야하고 10000개면 할당\n",
    "# 우선 5000개 넘으면 일단 던져넣어보자 (돌려보고 생각하지머)"
   ]
  },
  {
   "cell_type": "code",
   "execution_count": null,
   "id": "216e80c5",
   "metadata": {},
   "outputs": [],
   "source": []
  }
 ],
 "metadata": {
  "hide_input": false,
  "kernelspec": {
   "display_name": "Python 3.8.13 ('base')",
   "language": "python",
   "name": "python3"
  },
  "language_info": {
   "codemirror_mode": {
    "name": "ipython",
    "version": 3
   },
   "file_extension": ".py",
   "mimetype": "text/x-python",
   "name": "python",
   "nbconvert_exporter": "python",
   "pygments_lexer": "ipython3",
   "version": "3.8.13"
  },
  "toc": {
   "base_numbering": 1,
   "nav_menu": {},
   "number_sections": true,
   "sideBar": true,
   "skip_h1_title": false,
   "title_cell": "Table of Contents",
   "title_sidebar": "Contents",
   "toc_cell": false,
   "toc_position": {},
   "toc_section_display": true,
   "toc_window_display": false
  },
  "varInspector": {
   "cols": {
    "lenName": 16,
    "lenType": 16,
    "lenVar": 40
   },
   "kernels_config": {
    "python": {
     "delete_cmd_postfix": "",
     "delete_cmd_prefix": "del ",
     "library": "var_list.py",
     "varRefreshCmd": "print(var_dic_list())"
    },
    "r": {
     "delete_cmd_postfix": ") ",
     "delete_cmd_prefix": "rm(",
     "library": "var_list.r",
     "varRefreshCmd": "cat(var_dic_list()) "
    }
   },
   "types_to_exclude": [
    "module",
    "function",
    "builtin_function_or_method",
    "instance",
    "_Feature"
   ],
   "window_display": false
  },
  "vscode": {
   "interpreter": {
    "hash": "d4d1e4263499bec80672ea0156c357c1ee493ec2b1c70f0acce89fc37c4a6abe"
   }
  }
 },
 "nbformat": 4,
 "nbformat_minor": 5
}
