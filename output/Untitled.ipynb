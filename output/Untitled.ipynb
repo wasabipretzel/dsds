{
 "cells": [
  {
   "cell_type": "code",
   "execution_count": 24,
   "id": "86a8e401",
   "metadata": {
    "ExecuteTime": {
     "end_time": "2022-10-16T13:34:38.869905Z",
     "start_time": "2022-10-16T13:34:38.867905Z"
    }
   },
   "outputs": [],
   "source": [
    "import pandas as pd"
   ]
  },
  {
   "cell_type": "code",
   "execution_count": 26,
   "id": "733ee5d0",
   "metadata": {
    "ExecuteTime": {
     "end_time": "2022-10-16T13:34:49.997013Z",
     "start_time": "2022-10-16T13:34:49.981916Z"
    }
   },
   "outputs": [],
   "source": [
    "base = pd.read_csv('submission.csv')"
   ]
  },
  {
   "cell_type": "code",
   "execution_count": 27,
   "id": "b9f121dd",
   "metadata": {
    "ExecuteTime": {
     "end_time": "2022-10-16T13:34:52.640970Z",
     "start_time": "2022-10-16T13:34:52.624971Z"
    }
   },
   "outputs": [
    {
     "data": {
      "text/html": [
       "<div>\n",
       "<style scoped>\n",
       "    .dataframe tbody tr th:only-of-type {\n",
       "        vertical-align: middle;\n",
       "    }\n",
       "\n",
       "    .dataframe tbody tr th {\n",
       "        vertical-align: top;\n",
       "    }\n",
       "\n",
       "    .dataframe thead th {\n",
       "        text-align: right;\n",
       "    }\n",
       "</style>\n",
       "<table border=\"1\" class=\"dataframe\">\n",
       "  <thead>\n",
       "    <tr style=\"text-align: right;\">\n",
       "      <th></th>\n",
       "      <th>Store</th>\n",
       "      <th>Item</th>\n",
       "      <th>Allocation</th>\n",
       "    </tr>\n",
       "  </thead>\n",
       "  <tbody>\n",
       "    <tr>\n",
       "      <th>0</th>\n",
       "      <td>1</td>\n",
       "      <td>Bracket</td>\n",
       "      <td>0</td>\n",
       "    </tr>\n",
       "    <tr>\n",
       "      <th>1</th>\n",
       "      <td>1</td>\n",
       "      <td>Brush</td>\n",
       "      <td>0</td>\n",
       "    </tr>\n",
       "    <tr>\n",
       "      <th>2</th>\n",
       "      <td>1</td>\n",
       "      <td>Cereal</td>\n",
       "      <td>0</td>\n",
       "    </tr>\n",
       "    <tr>\n",
       "      <th>3</th>\n",
       "      <td>1</td>\n",
       "      <td>Ear Buds</td>\n",
       "      <td>0</td>\n",
       "    </tr>\n",
       "    <tr>\n",
       "      <th>4</th>\n",
       "      <td>1</td>\n",
       "      <td>Eggs</td>\n",
       "      <td>0</td>\n",
       "    </tr>\n",
       "    <tr>\n",
       "      <th>...</th>\n",
       "      <td>...</td>\n",
       "      <td>...</td>\n",
       "      <td>...</td>\n",
       "    </tr>\n",
       "    <tr>\n",
       "      <th>11551</th>\n",
       "      <td>642</td>\n",
       "      <td>Phone Charger</td>\n",
       "      <td>0</td>\n",
       "    </tr>\n",
       "    <tr>\n",
       "      <th>11552</th>\n",
       "      <td>642</td>\n",
       "      <td>Power Cord</td>\n",
       "      <td>0</td>\n",
       "    </tr>\n",
       "    <tr>\n",
       "      <th>11553</th>\n",
       "      <td>642</td>\n",
       "      <td>Shrimp</td>\n",
       "      <td>0</td>\n",
       "    </tr>\n",
       "    <tr>\n",
       "      <th>11554</th>\n",
       "      <td>642</td>\n",
       "      <td>Steak</td>\n",
       "      <td>0</td>\n",
       "    </tr>\n",
       "    <tr>\n",
       "      <th>11555</th>\n",
       "      <td>642</td>\n",
       "      <td>Tape</td>\n",
       "      <td>0</td>\n",
       "    </tr>\n",
       "  </tbody>\n",
       "</table>\n",
       "<p>11556 rows × 3 columns</p>\n",
       "</div>"
      ],
      "text/plain": [
       "       Store           Item  Allocation\n",
       "0          1        Bracket           0\n",
       "1          1          Brush           0\n",
       "2          1         Cereal           0\n",
       "3          1       Ear Buds           0\n",
       "4          1           Eggs           0\n",
       "...      ...            ...         ...\n",
       "11551    642  Phone Charger           0\n",
       "11552    642     Power Cord           0\n",
       "11553    642         Shrimp           0\n",
       "11554    642          Steak           0\n",
       "11555    642           Tape           0\n",
       "\n",
       "[11556 rows x 3 columns]"
      ]
     },
     "execution_count": 27,
     "metadata": {},
     "output_type": "execute_result"
    }
   ],
   "source": [
    "base"
   ]
  },
  {
   "cell_type": "code",
   "execution_count": 28,
   "id": "d6884ee8",
   "metadata": {
    "ExecuteTime": {
     "end_time": "2022-10-16T13:35:08.905448Z",
     "start_time": "2022-10-16T13:35:08.893444Z"
    }
   },
   "outputs": [],
   "source": [
    "base['real_allo'] = base['Allocation'] * 3"
   ]
  },
  {
   "cell_type": "code",
   "execution_count": 29,
   "id": "0f3b9200",
   "metadata": {
    "ExecuteTime": {
     "end_time": "2022-10-16T13:35:16.502850Z",
     "start_time": "2022-10-16T13:35:16.485852Z"
    }
   },
   "outputs": [
    {
     "data": {
      "text/plain": [
       "4998"
      ]
     },
     "execution_count": 29,
     "metadata": {},
     "output_type": "execute_result"
    }
   ],
   "source": [
    "base['real_allo'].sum()"
   ]
  },
  {
   "cell_type": "code",
   "execution_count": 30,
   "id": "41d464e5",
   "metadata": {
    "ExecuteTime": {
     "end_time": "2022-10-16T13:35:38.678777Z",
     "start_time": "2022-10-16T13:35:38.661778Z"
    }
   },
   "outputs": [],
   "source": [
    "base.drop(['Allocation'], axis = 1, inplace=True)\n",
    "base.columns=['Store','Item','Allocation']\n",
    "base.to_csv('5000_allocation.csv', index=False)"
   ]
  },
  {
   "cell_type": "code",
   "execution_count": 31,
   "id": "3129e6aa",
   "metadata": {
    "ExecuteTime": {
     "end_time": "2022-10-16T13:35:51.967524Z",
     "start_time": "2022-10-16T13:35:51.947526Z"
    }
   },
   "outputs": [],
   "source": [
    "base = pd.read_csv('submission_2.csv')"
   ]
  },
  {
   "cell_type": "code",
   "execution_count": 32,
   "id": "dfea61dc",
   "metadata": {
    "ExecuteTime": {
     "end_time": "2022-10-16T13:35:59.862540Z",
     "start_time": "2022-10-16T13:35:59.844542Z"
    }
   },
   "outputs": [],
   "source": [
    "base['real_allo'] = base['Allocation'] * 3\n",
    "base.drop(['Allocation'], axis = 1, inplace=True)\n",
    "base.columns=['Store','Item','Allocation']\n",
    "base.to_csv('10000_allocation.csv', index=False)"
   ]
  },
  {
   "cell_type": "code",
   "execution_count": 33,
   "id": "27baa202",
   "metadata": {
    "ExecuteTime": {
     "end_time": "2022-10-16T13:36:05.543447Z",
     "start_time": "2022-10-16T13:36:05.536448Z"
    }
   },
   "outputs": [
    {
     "data": {
      "text/plain": [
       "9999"
      ]
     },
     "execution_count": 33,
     "metadata": {},
     "output_type": "execute_result"
    }
   ],
   "source": [
    "base['Allocation'].sum()"
   ]
  },
  {
   "cell_type": "code",
   "execution_count": null,
   "id": "7728fb88",
   "metadata": {},
   "outputs": [],
   "source": []
  }
 ],
 "metadata": {
  "hide_input": false,
  "kernelspec": {
   "display_name": "Python 3 (ipykernel)",
   "language": "python",
   "name": "python3"
  },
  "language_info": {
   "codemirror_mode": {
    "name": "ipython",
    "version": 3
   },
   "file_extension": ".py",
   "mimetype": "text/x-python",
   "name": "python",
   "nbconvert_exporter": "python",
   "pygments_lexer": "ipython3",
   "version": "3.9.12"
  },
  "toc": {
   "base_numbering": 1,
   "nav_menu": {},
   "number_sections": true,
   "sideBar": true,
   "skip_h1_title": false,
   "title_cell": "Table of Contents",
   "title_sidebar": "Contents",
   "toc_cell": false,
   "toc_position": {},
   "toc_section_display": true,
   "toc_window_display": false
  },
  "varInspector": {
   "cols": {
    "lenName": 16,
    "lenType": 16,
    "lenVar": 40
   },
   "kernels_config": {
    "python": {
     "delete_cmd_postfix": "",
     "delete_cmd_prefix": "del ",
     "library": "var_list.py",
     "varRefreshCmd": "print(var_dic_list())"
    },
    "r": {
     "delete_cmd_postfix": ") ",
     "delete_cmd_prefix": "rm(",
     "library": "var_list.r",
     "varRefreshCmd": "cat(var_dic_list()) "
    }
   },
   "types_to_exclude": [
    "module",
    "function",
    "builtin_function_or_method",
    "instance",
    "_Feature"
   ],
   "window_display": false
  }
 },
 "nbformat": 4,
 "nbformat_minor": 5
}
