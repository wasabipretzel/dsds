{
 "cells": [
  {
   "cell_type": "markdown",
   "id": "e9a7a00b",
   "metadata": {},
   "source": [
    "## Check volatility of Items"
   ]
  },
  {
   "cell_type": "markdown",
   "id": "25d4df28",
   "metadata": {},
   "source": [
    "+ 하나의 상점내에서 물건들이 차지하는 비율 (상점의 총 ind_size에서 각 물건의 ind_size비율을 조사)의 변동성을 조사"
   ]
  },
  {
   "cell_type": "code",
   "execution_count": 1,
   "id": "dc491349",
   "metadata": {},
   "outputs": [],
   "source": [
    "import pandas as pd"
   ]
  },
  {
   "cell_type": "code",
   "execution_count": 3,
   "id": "a7881d59",
   "metadata": {},
   "outputs": [],
   "source": [
    "industry = pd.read_csv('../data/raw/Industry Data.csv')\n",
    "retail = pd.read_csv('../data/raw/Retail Data.csv')"
   ]
  },
  {
   "cell_type": "code",
   "execution_count": 4,
   "id": "cd8a43cf",
   "metadata": {},
   "outputs": [
    {
     "data": {
      "text/html": [
       "<div>\n",
       "<style scoped>\n",
       "    .dataframe tbody tr th:only-of-type {\n",
       "        vertical-align: middle;\n",
       "    }\n",
       "\n",
       "    .dataframe tbody tr th {\n",
       "        vertical-align: top;\n",
       "    }\n",
       "\n",
       "    .dataframe thead th {\n",
       "        text-align: right;\n",
       "    }\n",
       "</style>\n",
       "<table border=\"1\" class=\"dataframe\">\n",
       "  <thead>\n",
       "    <tr style=\"text-align: right;\">\n",
       "      <th></th>\n",
       "      <th>Month</th>\n",
       "      <th>Industry Size</th>\n",
       "      <th>Store</th>\n",
       "      <th>Product Type</th>\n",
       "      <th>Item</th>\n",
       "    </tr>\n",
       "  </thead>\n",
       "  <tbody>\n",
       "    <tr>\n",
       "      <th>0</th>\n",
       "      <td>2015-01-01 00:00:00</td>\n",
       "      <td>2</td>\n",
       "      <td>1</td>\n",
       "      <td>Electronics</td>\n",
       "      <td>Keyboard</td>\n",
       "    </tr>\n",
       "    <tr>\n",
       "      <th>1</th>\n",
       "      <td>2015-01-01 00:00:00</td>\n",
       "      <td>1</td>\n",
       "      <td>1</td>\n",
       "      <td>Grocery</td>\n",
       "      <td>Steak</td>\n",
       "    </tr>\n",
       "    <tr>\n",
       "      <th>2</th>\n",
       "      <td>2015-01-01 00:00:00</td>\n",
       "      <td>1</td>\n",
       "      <td>1</td>\n",
       "      <td>Home Goods</td>\n",
       "      <td>Paint</td>\n",
       "    </tr>\n",
       "    <tr>\n",
       "      <th>3</th>\n",
       "      <td>2015-02-01 00:00:00</td>\n",
       "      <td>1</td>\n",
       "      <td>1</td>\n",
       "      <td>Grocery</td>\n",
       "      <td>Shrimp</td>\n",
       "    </tr>\n",
       "    <tr>\n",
       "      <th>4</th>\n",
       "      <td>2015-03-01 00:00:00</td>\n",
       "      <td>2</td>\n",
       "      <td>1</td>\n",
       "      <td>Electronics</td>\n",
       "      <td>Phone Charger</td>\n",
       "    </tr>\n",
       "    <tr>\n",
       "      <th>...</th>\n",
       "      <td>...</td>\n",
       "      <td>...</td>\n",
       "      <td>...</td>\n",
       "      <td>...</td>\n",
       "      <td>...</td>\n",
       "    </tr>\n",
       "    <tr>\n",
       "      <th>352889</th>\n",
       "      <td>2022-03-01 00:00:00</td>\n",
       "      <td>1</td>\n",
       "      <td>642</td>\n",
       "      <td>Grocery</td>\n",
       "      <td>Noodles</td>\n",
       "    </tr>\n",
       "    <tr>\n",
       "      <th>352890</th>\n",
       "      <td>2022-03-01 00:00:00</td>\n",
       "      <td>1</td>\n",
       "      <td>642</td>\n",
       "      <td>Grocery</td>\n",
       "      <td>King Crab</td>\n",
       "    </tr>\n",
       "    <tr>\n",
       "      <th>352891</th>\n",
       "      <td>2022-03-01 00:00:00</td>\n",
       "      <td>1</td>\n",
       "      <td>642</td>\n",
       "      <td>Home Goods</td>\n",
       "      <td>Glue</td>\n",
       "    </tr>\n",
       "    <tr>\n",
       "      <th>352892</th>\n",
       "      <td>2022-03-01 00:00:00</td>\n",
       "      <td>1</td>\n",
       "      <td>642</td>\n",
       "      <td>Home Goods</td>\n",
       "      <td>Nails</td>\n",
       "    </tr>\n",
       "    <tr>\n",
       "      <th>352893</th>\n",
       "      <td>2022-03-01 00:00:00</td>\n",
       "      <td>2</td>\n",
       "      <td>642</td>\n",
       "      <td>Home Goods</td>\n",
       "      <td>Bracket</td>\n",
       "    </tr>\n",
       "  </tbody>\n",
       "</table>\n",
       "<p>352894 rows × 5 columns</p>\n",
       "</div>"
      ],
      "text/plain": [
       "                      Month  Industry Size  Store Product Type           Item\n",
       "0       2015-01-01 00:00:00              2      1  Electronics       Keyboard\n",
       "1       2015-01-01 00:00:00              1      1      Grocery          Steak\n",
       "2       2015-01-01 00:00:00              1      1   Home Goods          Paint\n",
       "3       2015-02-01 00:00:00              1      1      Grocery         Shrimp\n",
       "4       2015-03-01 00:00:00              2      1  Electronics  Phone Charger\n",
       "...                     ...            ...    ...          ...            ...\n",
       "352889  2022-03-01 00:00:00              1    642      Grocery        Noodles\n",
       "352890  2022-03-01 00:00:00              1    642      Grocery      King Crab\n",
       "352891  2022-03-01 00:00:00              1    642   Home Goods           Glue\n",
       "352892  2022-03-01 00:00:00              1    642   Home Goods          Nails\n",
       "352893  2022-03-01 00:00:00              2    642   Home Goods        Bracket\n",
       "\n",
       "[352894 rows x 5 columns]"
      ]
     },
     "execution_count": 4,
     "metadata": {},
     "output_type": "execute_result"
    }
   ],
   "source": [
    "# 매 달 store 1의 총 ind_size을 확인\n",
    "# item별로 ind_size을 확인"
   ]
  },
  {
   "cell_type": "code",
   "execution_count": 5,
   "id": "192dcbda",
   "metadata": {},
   "outputs": [],
   "source": [
    "store1 = industry[industry['Store'] == 1]"
   ]
  },
  {
   "cell_type": "code",
   "execution_count": 6,
   "id": "c6975757",
   "metadata": {},
   "outputs": [
    {
     "data": {
      "text/html": [
       "<div>\n",
       "<style scoped>\n",
       "    .dataframe tbody tr th:only-of-type {\n",
       "        vertical-align: middle;\n",
       "    }\n",
       "\n",
       "    .dataframe tbody tr th {\n",
       "        vertical-align: top;\n",
       "    }\n",
       "\n",
       "    .dataframe thead th {\n",
       "        text-align: right;\n",
       "    }\n",
       "</style>\n",
       "<table border=\"1\" class=\"dataframe\">\n",
       "  <thead>\n",
       "    <tr style=\"text-align: right;\">\n",
       "      <th></th>\n",
       "      <th>Month</th>\n",
       "      <th>Industry Size</th>\n",
       "      <th>Store</th>\n",
       "      <th>Product Type</th>\n",
       "      <th>Item</th>\n",
       "    </tr>\n",
       "  </thead>\n",
       "  <tbody>\n",
       "    <tr>\n",
       "      <th>0</th>\n",
       "      <td>2015-01-01 00:00:00</td>\n",
       "      <td>2</td>\n",
       "      <td>1</td>\n",
       "      <td>Electronics</td>\n",
       "      <td>Keyboard</td>\n",
       "    </tr>\n",
       "    <tr>\n",
       "      <th>1</th>\n",
       "      <td>2015-01-01 00:00:00</td>\n",
       "      <td>1</td>\n",
       "      <td>1</td>\n",
       "      <td>Grocery</td>\n",
       "      <td>Steak</td>\n",
       "    </tr>\n",
       "    <tr>\n",
       "      <th>2</th>\n",
       "      <td>2015-01-01 00:00:00</td>\n",
       "      <td>1</td>\n",
       "      <td>1</td>\n",
       "      <td>Home Goods</td>\n",
       "      <td>Paint</td>\n",
       "    </tr>\n",
       "    <tr>\n",
       "      <th>3</th>\n",
       "      <td>2015-02-01 00:00:00</td>\n",
       "      <td>1</td>\n",
       "      <td>1</td>\n",
       "      <td>Grocery</td>\n",
       "      <td>Shrimp</td>\n",
       "    </tr>\n",
       "    <tr>\n",
       "      <th>4</th>\n",
       "      <td>2015-03-01 00:00:00</td>\n",
       "      <td>2</td>\n",
       "      <td>1</td>\n",
       "      <td>Electronics</td>\n",
       "      <td>Phone Charger</td>\n",
       "    </tr>\n",
       "    <tr>\n",
       "      <th>...</th>\n",
       "      <td>...</td>\n",
       "      <td>...</td>\n",
       "      <td>...</td>\n",
       "      <td>...</td>\n",
       "      <td>...</td>\n",
       "    </tr>\n",
       "    <tr>\n",
       "      <th>717</th>\n",
       "      <td>2022-03-01 00:00:00</td>\n",
       "      <td>2</td>\n",
       "      <td>1</td>\n",
       "      <td>Grocery</td>\n",
       "      <td>Noodles</td>\n",
       "    </tr>\n",
       "    <tr>\n",
       "      <th>718</th>\n",
       "      <td>2022-03-01 00:00:00</td>\n",
       "      <td>5</td>\n",
       "      <td>1</td>\n",
       "      <td>Grocery</td>\n",
       "      <td>Steak</td>\n",
       "    </tr>\n",
       "    <tr>\n",
       "      <th>719</th>\n",
       "      <td>2022-03-01 00:00:00</td>\n",
       "      <td>1</td>\n",
       "      <td>1</td>\n",
       "      <td>Grocery</td>\n",
       "      <td>King Crab</td>\n",
       "    </tr>\n",
       "    <tr>\n",
       "      <th>720</th>\n",
       "      <td>2022-03-01 00:00:00</td>\n",
       "      <td>1</td>\n",
       "      <td>1</td>\n",
       "      <td>Home Goods</td>\n",
       "      <td>Nails</td>\n",
       "    </tr>\n",
       "    <tr>\n",
       "      <th>721</th>\n",
       "      <td>2022-03-01 00:00:00</td>\n",
       "      <td>1</td>\n",
       "      <td>1</td>\n",
       "      <td>Home Goods</td>\n",
       "      <td>Bracket</td>\n",
       "    </tr>\n",
       "  </tbody>\n",
       "</table>\n",
       "<p>722 rows × 5 columns</p>\n",
       "</div>"
      ],
      "text/plain": [
       "                   Month  Industry Size  Store Product Type           Item\n",
       "0    2015-01-01 00:00:00              2      1  Electronics       Keyboard\n",
       "1    2015-01-01 00:00:00              1      1      Grocery          Steak\n",
       "2    2015-01-01 00:00:00              1      1   Home Goods          Paint\n",
       "3    2015-02-01 00:00:00              1      1      Grocery         Shrimp\n",
       "4    2015-03-01 00:00:00              2      1  Electronics  Phone Charger\n",
       "..                   ...            ...    ...          ...            ...\n",
       "717  2022-03-01 00:00:00              2      1      Grocery        Noodles\n",
       "718  2022-03-01 00:00:00              5      1      Grocery          Steak\n",
       "719  2022-03-01 00:00:00              1      1      Grocery      King Crab\n",
       "720  2022-03-01 00:00:00              1      1   Home Goods          Nails\n",
       "721  2022-03-01 00:00:00              1      1   Home Goods        Bracket\n",
       "\n",
       "[722 rows x 5 columns]"
      ]
     },
     "execution_count": 6,
     "metadata": {},
     "output_type": "execute_result"
    }
   ],
   "source": [
    "store1"
   ]
  },
  {
   "cell_type": "code",
   "execution_count": 8,
   "id": "2fac5cfa",
   "metadata": {},
   "outputs": [
    {
     "data": {
      "text/plain": [
       "<AxesSubplot:xlabel='Month'>"
      ]
     },
     "execution_count": 8,
     "metadata": {},
     "output_type": "execute_result"
    },
    {
     "data": {
      "image/png": "[encoded data removed]",
      "text/plain": [
       "<Figure size 432x288 with 1 Axes>"
      ]
     },
     "metadata": {
      "needs_background": "light"
     },
     "output_type": "display_data"
    }
   ],
   "source": [
    "store1.groupby(store1.Month)['Industry Size'].sum().plot()"
   ]
  },
  {
   "cell_type": "code",
   "execution_count": 35,
   "id": "1788d866",
   "metadata": {},
   "outputs": [
    {
     "data": {
      "text/plain": [
       "<AxesSubplot:xlabel='Month'>"
      ]
     },
     "execution_count": 35,
     "metadata": {},
     "output_type": "execute_result"
    },
    {
     "data": {
      "image/png": "[encoded data removed]",
      "text/plain": [
       "<Figure size 1080x360 with 1 Axes>"
      ]
     },
     "metadata": {
      "needs_background": "light"
     },
     "output_type": "display_data"
    }
   ],
   "source": [
    "# 주기성을 확인해보자\n",
    "# 1년만 먼저 보기\n",
    "store1_2015 = store1[(store1.Month >= '2015-01-01 00:00:00') & (store1.Month < '2016-01-01 00:00:00')]\n",
    "\n",
    "store1_2015.groupby(store1_2015.Month)['Industry Size'].sum().plot(figsize=(15,5))"
   ]
  },
  {
   "cell_type": "code",
   "execution_count": 20,
   "id": "dba2588b",
   "metadata": {},
   "outputs": [
    {
     "data": {
      "text/plain": [
       "test statistic          -0.822918\n",
       "p-value                  0.812297\n",
       "# of lags               11.000000\n",
       "# of observations       75.000000\n",
       "Critical Value (1%)     -3.520713\n",
       "Critical Value (5%)     -2.900925\n",
       "Critical Value (10%)    -2.587781\n",
       "dtype: float64"
      ]
     },
     "execution_count": 20,
     "metadata": {},
     "output_type": "execute_result"
    }
   ],
   "source": [
    "# 주기성이 있는것같긴한데 좀 애매하네\n",
    "# store1의 시계열성 확인\n",
    "# Dickey Fuller test\n",
    "from statsmodels.tsa.stattools import adfuller\n",
    "\n",
    "def adf_test(y):\n",
    "    # augmented dickey fuller\n",
    "    dftest = adfuller(y, autolag='AIC')\n",
    "    dfoutput = pd.Series(dftest[0:4], index=['test statistic','p-value', '# of lags','# of observations'])\n",
    "    for key, value in dftest[4].items():\n",
    "        dfoutput['Critical Value ({})'.format(key)] = value\n",
    "    return dfoutput\n",
    "\n",
    "adf_test(store1.groupby(store1.Month)['Industry Size'].sum())\n",
    "# p-value가 쥰내큼 -> non stationary -> 시간 변화에 따른 통계적 특성이 일정하지 않음\n"
   ]
  },
  {
   "cell_type": "code",
   "execution_count": 33,
   "id": "326da65d",
   "metadata": {
    "scrolled": false
   },
   "outputs": [
    {
     "data": {
      "image/png": "[encoded data removed]",
      "text/plain": [
       "<Figure size 864x576 with 4 Axes>"
      ]
     },
     "metadata": {
      "needs_background": "light"
     },
     "output_type": "display_data"
    }
   ],
   "source": [
    "#계절성 분해\n",
    "from statsmodels.tsa.seasonal import seasonal_decompose\n",
    "\n",
    "df = store1.groupby(store1.Month)['Industry Size'].sum()\n",
    "df.index = pd.to_datetime(df.index)\n",
    "\n",
    "ts = df\n",
    "result = seasonal_decompose(ts, model='additive')\n",
    "\n",
    "import matplotlib.pyplot as plt\n",
    "plt.rcParams['figure.figsize'] = [12,8]\n",
    "result.plot()\n",
    "plt.show()\n",
    "\n",
    "#계절성, 트렌드 지리네"
   ]
  },
  {
   "cell_type": "code",
   "execution_count": 34,
   "id": "bfe7a95a",
   "metadata": {},
   "outputs": [
    {
     "data": {
      "text/html": [
       "<div>\n",
       "<style scoped>\n",
       "    .dataframe tbody tr th:only-of-type {\n",
       "        vertical-align: middle;\n",
       "    }\n",
       "\n",
       "    .dataframe tbody tr th {\n",
       "        vertical-align: top;\n",
       "    }\n",
       "\n",
       "    .dataframe thead th {\n",
       "        text-align: right;\n",
       "    }\n",
       "</style>\n",
       "<table border=\"1\" class=\"dataframe\">\n",
       "  <thead>\n",
       "    <tr style=\"text-align: right;\">\n",
       "      <th></th>\n",
       "      <th>Month</th>\n",
       "      <th>Industry Size</th>\n",
       "      <th>Store</th>\n",
       "      <th>Product Type</th>\n",
       "      <th>Item</th>\n",
       "    </tr>\n",
       "  </thead>\n",
       "  <tbody>\n",
       "    <tr>\n",
       "      <th>0</th>\n",
       "      <td>2015-01-01 00:00:00</td>\n",
       "      <td>2</td>\n",
       "      <td>1</td>\n",
       "      <td>Electronics</td>\n",
       "      <td>Keyboard</td>\n",
       "    </tr>\n",
       "    <tr>\n",
       "      <th>1</th>\n",
       "      <td>2015-01-01 00:00:00</td>\n",
       "      <td>1</td>\n",
       "      <td>1</td>\n",
       "      <td>Grocery</td>\n",
       "      <td>Steak</td>\n",
       "    </tr>\n",
       "    <tr>\n",
       "      <th>2</th>\n",
       "      <td>2015-01-01 00:00:00</td>\n",
       "      <td>1</td>\n",
       "      <td>1</td>\n",
       "      <td>Home Goods</td>\n",
       "      <td>Paint</td>\n",
       "    </tr>\n",
       "    <tr>\n",
       "      <th>3</th>\n",
       "      <td>2015-02-01 00:00:00</td>\n",
       "      <td>1</td>\n",
       "      <td>1</td>\n",
       "      <td>Grocery</td>\n",
       "      <td>Shrimp</td>\n",
       "    </tr>\n",
       "    <tr>\n",
       "      <th>4</th>\n",
       "      <td>2015-03-01 00:00:00</td>\n",
       "      <td>2</td>\n",
       "      <td>1</td>\n",
       "      <td>Electronics</td>\n",
       "      <td>Phone Charger</td>\n",
       "    </tr>\n",
       "    <tr>\n",
       "      <th>...</th>\n",
       "      <td>...</td>\n",
       "      <td>...</td>\n",
       "      <td>...</td>\n",
       "      <td>...</td>\n",
       "      <td>...</td>\n",
       "    </tr>\n",
       "    <tr>\n",
       "      <th>717</th>\n",
       "      <td>2022-03-01 00:00:00</td>\n",
       "      <td>2</td>\n",
       "      <td>1</td>\n",
       "      <td>Grocery</td>\n",
       "      <td>Noodles</td>\n",
       "    </tr>\n",
       "    <tr>\n",
       "      <th>718</th>\n",
       "      <td>2022-03-01 00:00:00</td>\n",
       "      <td>5</td>\n",
       "      <td>1</td>\n",
       "      <td>Grocery</td>\n",
       "      <td>Steak</td>\n",
       "    </tr>\n",
       "    <tr>\n",
       "      <th>719</th>\n",
       "      <td>2022-03-01 00:00:00</td>\n",
       "      <td>1</td>\n",
       "      <td>1</td>\n",
       "      <td>Grocery</td>\n",
       "      <td>King Crab</td>\n",
       "    </tr>\n",
       "    <tr>\n",
       "      <th>720</th>\n",
       "      <td>2022-03-01 00:00:00</td>\n",
       "      <td>1</td>\n",
       "      <td>1</td>\n",
       "      <td>Home Goods</td>\n",
       "      <td>Nails</td>\n",
       "    </tr>\n",
       "    <tr>\n",
       "      <th>721</th>\n",
       "      <td>2022-03-01 00:00:00</td>\n",
       "      <td>1</td>\n",
       "      <td>1</td>\n",
       "      <td>Home Goods</td>\n",
       "      <td>Bracket</td>\n",
       "    </tr>\n",
       "  </tbody>\n",
       "</table>\n",
       "<p>722 rows × 5 columns</p>\n",
       "</div>"
      ],
      "text/plain": [
       "                   Month  Industry Size  Store Product Type           Item\n",
       "0    2015-01-01 00:00:00              2      1  Electronics       Keyboard\n",
       "1    2015-01-01 00:00:00              1      1      Grocery          Steak\n",
       "2    2015-01-01 00:00:00              1      1   Home Goods          Paint\n",
       "3    2015-02-01 00:00:00              1      1      Grocery         Shrimp\n",
       "4    2015-03-01 00:00:00              2      1  Electronics  Phone Charger\n",
       "..                   ...            ...    ...          ...            ...\n",
       "717  2022-03-01 00:00:00              2      1      Grocery        Noodles\n",
       "718  2022-03-01 00:00:00              5      1      Grocery          Steak\n",
       "719  2022-03-01 00:00:00              1      1      Grocery      King Crab\n",
       "720  2022-03-01 00:00:00              1      1   Home Goods          Nails\n",
       "721  2022-03-01 00:00:00              1      1   Home Goods        Bracket\n",
       "\n",
       "[722 rows x 5 columns]"
      ]
     },
     "execution_count": 34,
     "metadata": {},
     "output_type": "execute_result"
    }
   ],
   "source": [
    "store1"
   ]
  },
  {
   "cell_type": "code",
   "execution_count": 45,
   "id": "bc314430",
   "metadata": {},
   "outputs": [
    {
     "name": "stderr",
     "output_type": "stream",
     "text": [
      "C:\\Users\\user\\AppData\\Local\\Temp\\ipykernel_5516\\888008360.py:5: SettingWithCopyWarning: \n",
      "A value is trying to be set on a copy of a slice from a DataFrame.\n",
      "Try using .loc[row_indexer,col_indexer] = value instead\n",
      "\n",
      "See the caveats in the documentation: https://pandas.pydata.org/pandas-docs/stable/user_guide/indexing.html#returning-a-view-versus-a-copy\n",
      "  store1_2015.Month = pd.to_datetime(store1_2015.Month)\n"
     ]
    },
    {
     "data": {
      "text/plain": [
       "<pandas.core.groupby.generic.DataFrameGroupBy object at 0x000001F5CB536850>"
      ]
     },
     "execution_count": 45,
     "metadata": {},
     "output_type": "execute_result"
    }
   ],
   "source": [
    "store1_2015 = store1[(store1.Month >= '2015-01-01 00:00:00') & (store1.Month < '2016-01-01 00:00:00')]\n",
    "\n",
    "store1_2015\n",
    "# 2015년의 월별로 group by 를 하고, \n",
    "store1_2015.Month = pd.to_datetime(store1_2015.Month)"
   ]
  },
  {
   "cell_type": "code",
   "execution_count": 46,
   "id": "3348b499",
   "metadata": {},
   "outputs": [],
   "source": [
    "store_temp = store1_2015[(store1_2015.Month.dt.month >=1) & (store1_2015.Month.dt.month < 2)]"
   ]
  },
  {
   "cell_type": "code",
   "execution_count": 47,
   "id": "88f30454",
   "metadata": {},
   "outputs": [
    {
     "data": {
      "text/html": [
       "<div>\n",
       "<style scoped>\n",
       "    .dataframe tbody tr th:only-of-type {\n",
       "        vertical-align: middle;\n",
       "    }\n",
       "\n",
       "    .dataframe tbody tr th {\n",
       "        vertical-align: top;\n",
       "    }\n",
       "\n",
       "    .dataframe thead th {\n",
       "        text-align: right;\n",
       "    }\n",
       "</style>\n",
       "<table border=\"1\" class=\"dataframe\">\n",
       "  <thead>\n",
       "    <tr style=\"text-align: right;\">\n",
       "      <th></th>\n",
       "      <th>Month</th>\n",
       "      <th>Industry Size</th>\n",
       "      <th>Store</th>\n",
       "      <th>Product Type</th>\n",
       "      <th>Item</th>\n",
       "    </tr>\n",
       "  </thead>\n",
       "  <tbody>\n",
       "    <tr>\n",
       "      <th>0</th>\n",
       "      <td>2015-01-01</td>\n",
       "      <td>2</td>\n",
       "      <td>1</td>\n",
       "      <td>Electronics</td>\n",
       "      <td>Keyboard</td>\n",
       "    </tr>\n",
       "    <tr>\n",
       "      <th>1</th>\n",
       "      <td>2015-01-01</td>\n",
       "      <td>1</td>\n",
       "      <td>1</td>\n",
       "      <td>Grocery</td>\n",
       "      <td>Steak</td>\n",
       "    </tr>\n",
       "    <tr>\n",
       "      <th>2</th>\n",
       "      <td>2015-01-01</td>\n",
       "      <td>1</td>\n",
       "      <td>1</td>\n",
       "      <td>Home Goods</td>\n",
       "      <td>Paint</td>\n",
       "    </tr>\n",
       "  </tbody>\n",
       "</table>\n",
       "</div>"
      ],
      "text/plain": [
       "       Month  Industry Size  Store Product Type      Item\n",
       "0 2015-01-01              2      1  Electronics  Keyboard\n",
       "1 2015-01-01              1      1      Grocery     Steak\n",
       "2 2015-01-01              1      1   Home Goods     Paint"
      ]
     },
     "execution_count": 47,
     "metadata": {},
     "output_type": "execute_result"
    }
   ],
   "source": [
    "store_temp"
   ]
  },
  {
   "cell_type": "code",
   "execution_count": 48,
   "id": "4695775b",
   "metadata": {},
   "outputs": [],
   "source": [
    "#아... 당연히 매입을 안한 제품들도 있네... \n",
    "# 결국 그러면 각 store별 품목별 예측 모델을 만들어야겠네.."
   ]
  },
  {
   "cell_type": "code",
   "execution_count": null,
   "id": "fd0dfe76",
   "metadata": {},
   "outputs": [],
   "source": []
  }
 ],
 "metadata": {
  "hide_input": false,
  "kernelspec": {
   "display_name": "Python 3 (ipykernel)",
   "language": "python",
   "name": "python3"
  },
  "language_info": {
   "codemirror_mode": {
    "name": "ipython",
    "version": 3
   },
   "file_extension": ".py",
   "mimetype": "text/x-python",
   "name": "python",
   "nbconvert_exporter": "python",
   "pygments_lexer": "ipython3",
   "version": "3.9.12"
  },
  "varInspector": {
   "cols": {
    "lenName": 16,
    "lenType": 16,
    "lenVar": 40
   },
   "kernels_config": {
    "python": {
     "delete_cmd_postfix": "",
     "delete_cmd_prefix": "del ",
     "library": "var_list.py",
     "varRefreshCmd": "print(var_dic_list())"
    },
    "r": {
     "delete_cmd_postfix": ") ",
     "delete_cmd_prefix": "rm(",
     "library": "var_list.r",
     "varRefreshCmd": "cat(var_dic_list()) "
    }
   },
   "types_to_exclude": [
    "module",
    "function",
    "builtin_function_or_method",
    "instance",
    "_Feature"
   ],
   "window_display": false
  }
 },
 "nbformat": 4,
 "nbformat_minor": 5
}
