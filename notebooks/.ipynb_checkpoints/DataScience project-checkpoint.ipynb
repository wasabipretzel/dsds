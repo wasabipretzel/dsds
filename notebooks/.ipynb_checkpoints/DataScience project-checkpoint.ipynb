{
 "cells": [
  {
   "cell_type": "code",
   "execution_count": 3,
   "metadata": {
    "executionInfo": {
     "elapsed": 530,
     "status": "ok",
     "timestamp": 1663149315326,
     "user": {
      "displayName": "­안진우",
      "userId": "00390471621282821798"
     },
     "user_tz": -540
    },
    "id": "7eAJUwj-aOU3"
   },
   "outputs": [],
   "source": [
    "import pandas as pd"
   ]
  },
  {
   "cell_type": "markdown",
   "metadata": {
    "id": "nQ85OC34bJmd"
   },
   "source": []
  },
  {
   "cell_type": "code",
   "execution_count": 4,
   "metadata": {
    "executionInfo": {
     "elapsed": 827,
     "status": "ok",
     "timestamp": 1663151148650,
     "user": {
      "displayName": "­안진우",
      "userId": "00390471621282821798"
     },
     "user_tz": -540
    },
    "id": "gNkZBh8IbI5X"
   },
   "outputs": [],
   "source": [
    "dealer = pd.read_csv(r'../data/raw/Dealer Hierarchies.csv',encoding='latin1')\n",
    "Industry = pd.read_csv(r'../data/raw/Industry data.csv',encoding='us-ascii')\n",
    "product = pd.read_csv(r'../data/raw/Product Hierarchies.csv',encoding='us-ascii')\n",
    "retail = pd.read_csv(r'../data/raw/Retail data.csv',encoding='us-ascii')"
   ]
  },
  {
   "cell_type": "markdown",
   "metadata": {
    "id": "0STv-3qIf89T"
   },
   "source": [
    "## Data EDA"
   ]
  },
  {
   "cell_type": "markdown",
   "metadata": {
    "id": "H0-K5emLjZJA"
   },
   "source": [
    "### Dealer Hierarchies"
   ]
  },
  {
   "cell_type": "code",
   "execution_count": 5,
   "metadata": {
    "colab": {
     "base_uri": "https://localhost:8080/",
     "height": 204
    },
    "executionInfo": {
     "elapsed": 565,
     "status": "ok",
     "timestamp": 1663151284946,
     "user": {
      "displayName": "­안진우",
      "userId": "00390471621282821798"
     },
     "user_tz": -540
    },
    "id": "0HiZyqc6bOf_",
    "outputId": "f59567ec-e1e7-4386-fd21-18eeffa6f0c5"
   },
   "outputs": [
    {
     "data": {
      "text/html": [
       "<div>\n",
       "<style scoped>\n",
       "    .dataframe tbody tr th:only-of-type {\n",
       "        vertical-align: middle;\n",
       "    }\n",
       "\n",
       "    .dataframe tbody tr th {\n",
       "        vertical-align: top;\n",
       "    }\n",
       "\n",
       "    .dataframe thead th {\n",
       "        text-align: right;\n",
       "    }\n",
       "</style>\n",
       "<table border=\"1\" class=\"dataframe\">\n",
       "  <thead>\n",
       "    <tr style=\"text-align: right;\">\n",
       "      <th></th>\n",
       "      <th>Store</th>\n",
       "      <th>Store Owner</th>\n",
       "      <th>Region Level 1</th>\n",
       "      <th>Region Level 2</th>\n",
       "      <th>Urban/Rural</th>\n",
       "    </tr>\n",
       "  </thead>\n",
       "  <tbody>\n",
       "    <tr>\n",
       "      <th>0</th>\n",
       "      <td>1</td>\n",
       "      <td>1</td>\n",
       "      <td>Eisenstadt-Umgebung</td>\n",
       "      <td>GWR</td>\n",
       "      <td>Urban</td>\n",
       "    </tr>\n",
       "    <tr>\n",
       "      <th>1</th>\n",
       "      <td>2</td>\n",
       "      <td>1</td>\n",
       "      <td>Politischer Bezirk G?ssing</td>\n",
       "      <td>GWR</td>\n",
       "      <td>Urban</td>\n",
       "    </tr>\n",
       "    <tr>\n",
       "      <th>2</th>\n",
       "      <td>3</td>\n",
       "      <td>1</td>\n",
       "      <td>Politischer Bezirk Jennersdorf</td>\n",
       "      <td>GWR</td>\n",
       "      <td>Urban</td>\n",
       "    </tr>\n",
       "    <tr>\n",
       "      <th>3</th>\n",
       "      <td>4</td>\n",
       "      <td>1</td>\n",
       "      <td>Politischer Bezirk Jennersdorf</td>\n",
       "      <td>GWR</td>\n",
       "      <td>Urban</td>\n",
       "    </tr>\n",
       "    <tr>\n",
       "      <th>4</th>\n",
       "      <td>5</td>\n",
       "      <td>1</td>\n",
       "      <td>Politischer Bezirk Oberpullendorf</td>\n",
       "      <td>GWR</td>\n",
       "      <td>Urban</td>\n",
       "    </tr>\n",
       "  </tbody>\n",
       "</table>\n",
       "</div>"
      ],
      "text/plain": [
       "   Store  Store Owner                     Region Level 1 Region Level 2  \\\n",
       "0      1            1                Eisenstadt-Umgebung            GWR   \n",
       "1      2            1         Politischer Bezirk G?ssing            GWR   \n",
       "2      3            1     Politischer Bezirk Jennersdorf            GWR   \n",
       "3      4            1     Politischer Bezirk Jennersdorf            GWR   \n",
       "4      5            1  Politischer Bezirk Oberpullendorf            GWR   \n",
       "\n",
       "  Urban/Rural  \n",
       "0       Urban  \n",
       "1       Urban  \n",
       "2       Urban  \n",
       "3       Urban  \n",
       "4       Urban  "
      ]
     },
     "execution_count": 5,
     "metadata": {},
     "output_type": "execute_result"
    }
   ],
   "source": [
    "dealer.head()\n",
    "# 총 642개\n",
    "# store 은 그냥 index에 해당하는것같음\n",
    "# store owner은 301개.. 이건 이 소매점들을 소유한 주인이 공통된사람이 잇다는 뜻인가?"
   ]
  },
  {
   "cell_type": "code",
   "execution_count": 31,
   "metadata": {},
   "outputs": [
    {
     "data": {
      "text/plain": [
       "216    13\n",
       "28      9\n",
       "89      9\n",
       "51      9\n",
       "38      9\n",
       "       ..\n",
       "150     1\n",
       "152     1\n",
       "153     1\n",
       "155     1\n",
       "301     1\n",
       "Name: Store Owner, Length: 301, dtype: int64"
      ]
     },
     "execution_count": 31,
     "metadata": {},
     "output_type": "execute_result"
    }
   ],
   "source": [
    "dealer['Store Owner'].value_counts()\n",
    "#이거 plot할 수 있는가?"
   ]
  },
  {
   "cell_type": "code",
   "execution_count": 6,
   "metadata": {
    "colab": {
     "base_uri": "https://localhost:8080/"
    },
    "executionInfo": {
     "elapsed": 447,
     "status": "ok",
     "timestamp": 1663151363870,
     "user": {
      "displayName": "­안진우",
      "userId": "00390471621282821798"
     },
     "user_tz": -540
    },
    "id": "v8HDdhS8irGX",
    "outputId": "4b79f13c-85aa-4f57-d9d6-b0e2d773ad6f",
    "scrolled": true
   },
   "outputs": [
    {
     "name": "stdout",
     "output_type": "stream",
     "text": [
      "(642, 5)\n",
      "1      1\n",
      "482    1\n",
      "424    1\n",
      "425    1\n",
      "426    1\n",
      "      ..\n",
      "216    1\n",
      "217    1\n",
      "218    1\n",
      "219    1\n",
      "642    1\n",
      "Name: Store, Length: 642, dtype: int64\n",
      "216    13\n",
      "28      9\n",
      "89      9\n",
      "51      9\n",
      "38      9\n",
      "       ..\n",
      "150     1\n",
      "152     1\n",
      "153     1\n",
      "155     1\n",
      "301     1\n",
      "Name: Store Owner, Length: 301, dtype: int64\n"
     ]
    }
   ],
   "source": [
    "print(dealer.shape)\n",
    "print(dealer['Store'].value_counts())\n",
    "print(dealer['Store Owner'].value_counts())"
   ]
  },
  {
   "cell_type": "code",
   "execution_count": 32,
   "metadata": {
    "colab": {
     "base_uri": "https://localhost:8080/"
    },
    "executionInfo": {
     "elapsed": 577,
     "status": "ok",
     "timestamp": 1663151149688,
     "user": {
      "displayName": "­안진우",
      "userId": "00390471621282821798"
     },
     "user_tz": -540
    },
    "id": "cMHoT6Hkb80Y",
    "outputId": "314f75d4-9f76-411f-aad8-da73cddd0327"
   },
   "outputs": [
    {
     "data": {
      "text/plain": [
       "(343,)"
      ]
     },
     "execution_count": 32,
     "metadata": {},
     "output_type": "execute_result"
    }
   ],
   "source": [
    "dealer['Region Level 1'].value_counts().shape"
   ]
  },
  {
   "cell_type": "code",
   "execution_count": 8,
   "metadata": {
    "colab": {
     "base_uri": "https://localhost:8080/"
    },
    "executionInfo": {
     "elapsed": 7,
     "status": "ok",
     "timestamp": 1663151197998,
     "user": {
      "displayName": "­안진우",
      "userId": "00390471621282821798"
     },
     "user_tz": -540
    },
    "id": "VXOVD3-JiPIS",
    "outputId": "1e6696af-c201-4591-c3ad-3499e0495b47",
    "scrolled": true
   },
   "outputs": [
    {
     "data": {
      "text/plain": [
       "KTR    33\n",
       "ICA    32\n",
       "NGO    30\n",
       "TZF    30\n",
       "LAV    29\n",
       "       ..\n",
       "DNC     1\n",
       "EPM     1\n",
       "SMM     1\n",
       "CMH     1\n",
       "THH     1\n",
       "Name: Region Level 2, Length: 61, dtype: int64"
      ]
     },
     "execution_count": 8,
     "metadata": {},
     "output_type": "execute_result"
    }
   ],
   "source": [
    "dealer['Region Level 2'].value_counts()"
   ]
  },
  {
   "cell_type": "code",
   "execution_count": 9,
   "metadata": {
    "colab": {
     "base_uri": "https://localhost:8080/"
    },
    "executionInfo": {
     "elapsed": 465,
     "status": "ok",
     "timestamp": 1663151234040,
     "user": {
      "displayName": "­안진우",
      "userId": "00390471621282821798"
     },
     "user_tz": -540
    },
    "id": "jWCJfWogia10",
    "outputId": "2b7f430c-ad41-45b3-9997-3d4f71acfbf5"
   },
   "outputs": [
    {
     "data": {
      "text/plain": [
       "Urban    370\n",
       "Rural    272\n",
       "Name: Urban/Rural, dtype: int64"
      ]
     },
     "execution_count": 9,
     "metadata": {},
     "output_type": "execute_result"
    }
   ],
   "source": [
    "dealer['Urban/Rural'].value_counts()"
   ]
  },
  {
   "cell_type": "markdown",
   "metadata": {
    "id": "oZo6nJLcjcEF"
   },
   "source": [
    "### Industry data "
   ]
  },
  {
   "cell_type": "markdown",
   "metadata": {
    "id": "9oPFD7sTkVjR"
   },
   "source": [
    "+ 2015.01.01 ~ 2022.03.01 까지의 판매 데이터인듯? \n",
    "  + 모든 Store마다 다 있는게 아님. Store 2번은 2017년 1월이 없음 아마 이 달은 거기에 팔린게 없어서 그런가봄\n",
    "\n",
    "+ 35만여개의 판매 기록이 있음"
   ]
  },
  {
   "cell_type": "code",
   "execution_count": 10,
   "metadata": {
    "colab": {
     "base_uri": "https://localhost:8080/",
     "height": 204
    },
    "executionInfo": {
     "elapsed": 2,
     "status": "ok",
     "timestamp": 1663151095382,
     "user": {
      "displayName": "­안진우",
      "userId": "00390471621282821798"
     },
     "user_tz": -540
    },
    "id": "_8c-sg7Cbc9v",
    "outputId": "33734aef-7fc7-4a95-f7b8-83122788a723"
   },
   "outputs": [
    {
     "data": {
      "text/html": [
       "<div>\n",
       "<style scoped>\n",
       "    .dataframe tbody tr th:only-of-type {\n",
       "        vertical-align: middle;\n",
       "    }\n",
       "\n",
       "    .dataframe tbody tr th {\n",
       "        vertical-align: top;\n",
       "    }\n",
       "\n",
       "    .dataframe thead th {\n",
       "        text-align: right;\n",
       "    }\n",
       "</style>\n",
       "<table border=\"1\" class=\"dataframe\">\n",
       "  <thead>\n",
       "    <tr style=\"text-align: right;\">\n",
       "      <th></th>\n",
       "      <th>Month</th>\n",
       "      <th>Industry Size</th>\n",
       "      <th>Store</th>\n",
       "      <th>Product Type</th>\n",
       "      <th>Item</th>\n",
       "    </tr>\n",
       "  </thead>\n",
       "  <tbody>\n",
       "    <tr>\n",
       "      <th>0</th>\n",
       "      <td>2015-01-01 00:00:00</td>\n",
       "      <td>2</td>\n",
       "      <td>1</td>\n",
       "      <td>Electronics</td>\n",
       "      <td>Keyboard</td>\n",
       "    </tr>\n",
       "    <tr>\n",
       "      <th>1</th>\n",
       "      <td>2015-01-01 00:00:00</td>\n",
       "      <td>1</td>\n",
       "      <td>1</td>\n",
       "      <td>Grocery</td>\n",
       "      <td>Steak</td>\n",
       "    </tr>\n",
       "    <tr>\n",
       "      <th>2</th>\n",
       "      <td>2015-01-01 00:00:00</td>\n",
       "      <td>1</td>\n",
       "      <td>1</td>\n",
       "      <td>Home Goods</td>\n",
       "      <td>Paint</td>\n",
       "    </tr>\n",
       "    <tr>\n",
       "      <th>3</th>\n",
       "      <td>2015-02-01 00:00:00</td>\n",
       "      <td>1</td>\n",
       "      <td>1</td>\n",
       "      <td>Grocery</td>\n",
       "      <td>Shrimp</td>\n",
       "    </tr>\n",
       "    <tr>\n",
       "      <th>4</th>\n",
       "      <td>2015-03-01 00:00:00</td>\n",
       "      <td>2</td>\n",
       "      <td>1</td>\n",
       "      <td>Electronics</td>\n",
       "      <td>Phone Charger</td>\n",
       "    </tr>\n",
       "  </tbody>\n",
       "</table>\n",
       "</div>"
      ],
      "text/plain": [
       "                 Month  Industry Size  Store Product Type           Item\n",
       "0  2015-01-01 00:00:00              2      1  Electronics       Keyboard\n",
       "1  2015-01-01 00:00:00              1      1      Grocery          Steak\n",
       "2  2015-01-01 00:00:00              1      1   Home Goods          Paint\n",
       "3  2015-02-01 00:00:00              1      1      Grocery         Shrimp\n",
       "4  2015-03-01 00:00:00              2      1  Electronics  Phone Charger"
      ]
     },
     "execution_count": 10,
     "metadata": {},
     "output_type": "execute_result"
    }
   ],
   "source": [
    "Industry.head()"
   ]
  },
  {
   "cell_type": "code",
   "execution_count": 11,
   "metadata": {
    "colab": {
     "base_uri": "https://localhost:8080/"
    },
    "executionInfo": {
     "elapsed": 447,
     "status": "ok",
     "timestamp": 1663152044506,
     "user": {
      "displayName": "­안진우",
      "userId": "00390471621282821798"
     },
     "user_tz": -540
    },
    "id": "OXj_AP-nligN",
    "outputId": "41526106-5cd0-4694-8e3f-d0a268c09906"
   },
   "outputs": [
    {
     "data": {
      "text/plain": [
       "(352894, 5)"
      ]
     },
     "execution_count": 11,
     "metadata": {},
     "output_type": "execute_result"
    }
   ],
   "source": [
    "Industry.shape"
   ]
  },
  {
   "cell_type": "code",
   "execution_count": 12,
   "metadata": {
    "colab": {
     "base_uri": "https://localhost:8080/"
    },
    "executionInfo": {
     "elapsed": 420,
     "status": "ok",
     "timestamp": 1663152019244,
     "user": {
      "displayName": "­안진우",
      "userId": "00390471621282821798"
     },
     "user_tz": -540
    },
    "id": "R5bPvcM9la0O",
    "outputId": "414ad961-10e1-4876-b840-9d5c90fe9016"
   },
   "outputs": [
    {
     "data": {
      "text/plain": [
       "338    1343\n",
       "93     1316\n",
       "480    1298\n",
       "609    1282\n",
       "484    1275\n",
       "       ... \n",
       "387      48\n",
       "204      40\n",
       "65       35\n",
       "508      35\n",
       "621      34\n",
       "Name: Store, Length: 638, dtype: int64"
      ]
     },
     "execution_count": 12,
     "metadata": {},
     "output_type": "execute_result"
    }
   ],
   "source": [
    "Industry['Store'].value_counts()"
   ]
  },
  {
   "cell_type": "code",
   "execution_count": 13,
   "metadata": {
    "colab": {
     "base_uri": "https://localhost:8080/"
    },
    "executionInfo": {
     "elapsed": 260,
     "status": "ok",
     "timestamp": 1663151955707,
     "user": {
      "displayName": "­안진우",
      "userId": "00390471621282821798"
     },
     "user_tz": -540
    },
    "id": "_WGksiOaky7o",
    "outputId": "8b609bef-2982-40c6-d397-3cb69e109fc2"
   },
   "outputs": [
    {
     "data": {
      "text/plain": [
       "86"
      ]
     },
     "execution_count": 13,
     "metadata": {},
     "output_type": "execute_result"
    }
   ],
   "source": [
    "Industry[Industry['Store'] == 2]['Month'].value_counts().shape[0]"
   ]
  },
  {
   "cell_type": "code",
   "execution_count": 14,
   "metadata": {
    "collapsed": true,
    "id": "zM42F7vHjlzZ"
   },
   "outputs": [
    {
     "data": {
      "text/plain": [
       "['2015-01-01 00:00:00',\n",
       " '2015-02-01 00:00:00',\n",
       " '2015-03-01 00:00:00',\n",
       " '2015-04-01 00:00:00',\n",
       " '2015-05-01 00:00:00',\n",
       " '2015-06-01 00:00:00',\n",
       " '2015-07-01 00:00:00',\n",
       " '2015-08-01 00:00:00',\n",
       " '2015-09-01 00:00:00',\n",
       " '2015-10-01 00:00:00',\n",
       " '2015-11-01 00:00:00',\n",
       " '2015-12-01 00:00:00',\n",
       " '2016-01-01 00:00:00',\n",
       " '2016-02-01 00:00:00',\n",
       " '2016-03-01 00:00:00',\n",
       " '2016-04-01 00:00:00',\n",
       " '2016-05-01 00:00:00',\n",
       " '2016-06-01 00:00:00',\n",
       " '2016-07-01 00:00:00',\n",
       " '2016-08-01 00:00:00',\n",
       " '2016-09-01 00:00:00',\n",
       " '2016-10-01 00:00:00',\n",
       " '2016-11-01 00:00:00',\n",
       " '2016-12-01 00:00:00',\n",
       " '2017-02-01 00:00:00',\n",
       " '2017-03-01 00:00:00',\n",
       " '2017-04-01 00:00:00',\n",
       " '2017-05-01 00:00:00',\n",
       " '2017-06-01 00:00:00',\n",
       " '2017-07-01 00:00:00',\n",
       " '2017-08-01 00:00:00',\n",
       " '2017-09-01 00:00:00',\n",
       " '2017-10-01 00:00:00',\n",
       " '2017-11-01 00:00:00',\n",
       " '2017-12-01 00:00:00',\n",
       " '2018-01-01 00:00:00',\n",
       " '2018-02-01 00:00:00',\n",
       " '2018-03-01 00:00:00',\n",
       " '2018-04-01 00:00:00',\n",
       " '2018-05-01 00:00:00',\n",
       " '2018-06-01 00:00:00',\n",
       " '2018-07-01 00:00:00',\n",
       " '2018-08-01 00:00:00',\n",
       " '2018-09-01 00:00:00',\n",
       " '2018-10-01 00:00:00',\n",
       " '2018-11-01 00:00:00',\n",
       " '2018-12-01 00:00:00',\n",
       " '2019-01-01 00:00:00',\n",
       " '2019-02-01 00:00:00',\n",
       " '2019-03-01 00:00:00',\n",
       " '2019-04-01 00:00:00',\n",
       " '2019-05-01 00:00:00',\n",
       " '2019-06-01 00:00:00',\n",
       " '2019-07-01 00:00:00',\n",
       " '2019-08-01 00:00:00',\n",
       " '2019-09-01 00:00:00',\n",
       " '2019-10-01 00:00:00',\n",
       " '2019-11-01 00:00:00',\n",
       " '2019-12-01 00:00:00',\n",
       " '2020-01-01 00:00:00',\n",
       " '2020-02-01 00:00:00',\n",
       " '2020-03-01 00:00:00',\n",
       " '2020-04-01 00:00:00',\n",
       " '2020-05-01 00:00:00',\n",
       " '2020-06-01 00:00:00',\n",
       " '2020-07-01 00:00:00',\n",
       " '2020-08-01 00:00:00',\n",
       " '2020-09-01 00:00:00',\n",
       " '2020-10-01 00:00:00',\n",
       " '2020-11-01 00:00:00',\n",
       " '2020-12-01 00:00:00',\n",
       " '2021-01-01 00:00:00',\n",
       " '2021-02-01 00:00:00',\n",
       " '2021-03-01 00:00:00',\n",
       " '2021-04-01 00:00:00',\n",
       " '2021-05-01 00:00:00',\n",
       " '2021-06-01 00:00:00',\n",
       " '2021-07-01 00:00:00',\n",
       " '2021-08-01 00:00:00',\n",
       " '2021-09-01 00:00:00',\n",
       " '2021-10-01 00:00:00',\n",
       " '2021-11-01 00:00:00',\n",
       " '2021-12-01 00:00:00',\n",
       " '2022-01-01 00:00:00',\n",
       " '2022-02-01 00:00:00',\n",
       " '2022-03-01 00:00:00']"
      ]
     },
     "execution_count": 14,
     "metadata": {},
     "output_type": "execute_result"
    }
   ],
   "source": [
    "sorted(list(Industry[Industry['Store'] == 2]['Month'].value_counts().index))"
   ]
  },
  {
   "cell_type": "code",
   "execution_count": 15,
   "metadata": {
    "code_folding": [],
    "id": "w77w38FvlQDP"
   },
   "outputs": [
    {
     "name": "stdout",
     "output_type": "stream",
     "text": [
      "87\n"
     ]
    }
   ],
   "source": [
    "# 가장 timestamp가 많은 경우 몇 까지 있는지 알기 위함 + time stamp의 분포를 보자\n",
    "max_length = 0\n",
    "timestamp_data = []\n",
    "# 1번 상점부터 끝 번 상점까지 돌면서 만약 이전보다 크다면 max_length을 update\n",
    "for i in range(1, 639):\n",
    "  temp = Industry[Industry['Store'] == i]['Month'].value_counts().shape[0]\n",
    "  timestamp_data.append([i, temp])\n",
    "  if temp > max_length:\n",
    "        max_length = temp\n",
    "print(max_length)"
   ]
  },
  {
   "cell_type": "code",
   "execution_count": 16,
   "metadata": {
    "collapsed": true
   },
   "outputs": [
    {
     "data": {
      "text/plain": [
       "87    411\n",
       "86     44\n",
       "85     24\n",
       "83     22\n",
       "84     20\n",
       "81     12\n",
       "79     10\n",
       "82      9\n",
       "80      7\n",
       "78      5\n",
       "77      5\n",
       "67      4\n",
       "73      4\n",
       "0       4\n",
       "63      4\n",
       "71      4\n",
       "76      4\n",
       "74      4\n",
       "66      4\n",
       "69      4\n",
       "70      3\n",
       "72      3\n",
       "58      2\n",
       "75      2\n",
       "64      2\n",
       "46      2\n",
       "68      2\n",
       "52      2\n",
       "32      1\n",
       "43      1\n",
       "44      1\n",
       "26      1\n",
       "55      1\n",
       "30      1\n",
       "56      1\n",
       "49      1\n",
       "37      1\n",
       "50      1\n",
       "54      1\n",
       "27      1\n",
       "42      1\n",
       "62      1\n",
       "65      1\n",
       "Name: 1, dtype: int64"
      ]
     },
     "execution_count": 16,
     "metadata": {},
     "output_type": "execute_result"
    }
   ],
   "source": [
    "# timestamp 분포. 대부분 87개월이나 아닌 경우도 있음. \n",
    "pd.DataFrame(timestamp_data)[1].value_counts()"
   ]
  },
  {
   "cell_type": "code",
   "execution_count": 17,
   "metadata": {
    "colab": {
     "base_uri": "https://localhost:8080/",
     "height": 204
    },
    "executionInfo": {
     "elapsed": 7,
     "status": "ok",
     "timestamp": 1663150566027,
     "user": {
      "displayName": "­안진우",
      "userId": "00390471621282821798"
     },
     "user_tz": -540
    },
    "id": "NzkRMLe2b0rz",
    "outputId": "b26135cc-f785-460d-fdd4-10fe30412b96"
   },
   "outputs": [
    {
     "data": {
      "text/html": [
       "<div>\n",
       "<style scoped>\n",
       "    .dataframe tbody tr th:only-of-type {\n",
       "        vertical-align: middle;\n",
       "    }\n",
       "\n",
       "    .dataframe tbody tr th {\n",
       "        vertical-align: top;\n",
       "    }\n",
       "\n",
       "    .dataframe thead th {\n",
       "        text-align: right;\n",
       "    }\n",
       "</style>\n",
       "<table border=\"1\" class=\"dataframe\">\n",
       "  <thead>\n",
       "    <tr style=\"text-align: right;\">\n",
       "      <th></th>\n",
       "      <th>Product Type</th>\n",
       "      <th>Item</th>\n",
       "    </tr>\n",
       "  </thead>\n",
       "  <tbody>\n",
       "    <tr>\n",
       "      <th>0</th>\n",
       "      <td>Electronics</td>\n",
       "      <td>Power Cord</td>\n",
       "    </tr>\n",
       "    <tr>\n",
       "      <th>1</th>\n",
       "      <td>Electronics</td>\n",
       "      <td>Phone Charger</td>\n",
       "    </tr>\n",
       "    <tr>\n",
       "      <th>2</th>\n",
       "      <td>Electronics</td>\n",
       "      <td>Ear Buds</td>\n",
       "    </tr>\n",
       "    <tr>\n",
       "      <th>3</th>\n",
       "      <td>Electronics</td>\n",
       "      <td>Mouse</td>\n",
       "    </tr>\n",
       "    <tr>\n",
       "      <th>4</th>\n",
       "      <td>Electronics</td>\n",
       "      <td>Keyboard</td>\n",
       "    </tr>\n",
       "  </tbody>\n",
       "</table>\n",
       "</div>"
      ],
      "text/plain": [
       "  Product Type           Item\n",
       "0  Electronics     Power Cord\n",
       "1  Electronics  Phone Charger\n",
       "2  Electronics       Ear Buds\n",
       "3  Electronics          Mouse\n",
       "4  Electronics       Keyboard"
      ]
     },
     "execution_count": 17,
     "metadata": {},
     "output_type": "execute_result"
    }
   ],
   "source": [
    "product.head()"
   ]
  },
  {
   "cell_type": "code",
   "execution_count": 19,
   "metadata": {},
   "outputs": [
    {
     "data": {
      "text/plain": [
       "Grocery        7\n",
       "Home Goods     6\n",
       "Electronics    5\n",
       "Name: Product Type, dtype: int64"
      ]
     },
     "execution_count": 19,
     "metadata": {},
     "output_type": "execute_result"
    }
   ],
   "source": [
    "product['Product Type'].value_counts()"
   ]
  },
  {
   "cell_type": "code",
   "execution_count": 18,
   "metadata": {
    "colab": {
     "base_uri": "https://localhost:8080/",
     "height": 204
    },
    "executionInfo": {
     "elapsed": 293,
     "status": "ok",
     "timestamp": 1663150569576,
     "user": {
      "displayName": "­안진우",
      "userId": "00390471621282821798"
     },
     "user_tz": -540
    },
    "id": "gpeGNI0Gb1PL",
    "outputId": "5343e07a-e6ad-4b2d-f58b-301c39777f2d"
   },
   "outputs": [
    {
     "data": {
      "text/html": [
       "<div>\n",
       "<style scoped>\n",
       "    .dataframe tbody tr th:only-of-type {\n",
       "        vertical-align: middle;\n",
       "    }\n",
       "\n",
       "    .dataframe tbody tr th {\n",
       "        vertical-align: top;\n",
       "    }\n",
       "\n",
       "    .dataframe thead th {\n",
       "        text-align: right;\n",
       "    }\n",
       "</style>\n",
       "<table border=\"1\" class=\"dataframe\">\n",
       "  <thead>\n",
       "    <tr style=\"text-align: right;\">\n",
       "      <th></th>\n",
       "      <th>Month</th>\n",
       "      <th>Sales Total</th>\n",
       "      <th>Store</th>\n",
       "      <th>Product Type</th>\n",
       "      <th>Item</th>\n",
       "    </tr>\n",
       "  </thead>\n",
       "  <tbody>\n",
       "    <tr>\n",
       "      <th>0</th>\n",
       "      <td>2021-02-01 00:00:00</td>\n",
       "      <td>1</td>\n",
       "      <td>1</td>\n",
       "      <td>Electronics</td>\n",
       "      <td>Phone Charger</td>\n",
       "    </tr>\n",
       "    <tr>\n",
       "      <th>1</th>\n",
       "      <td>2021-02-01 00:00:00</td>\n",
       "      <td>5</td>\n",
       "      <td>1</td>\n",
       "      <td>Grocery</td>\n",
       "      <td>Shrimp</td>\n",
       "    </tr>\n",
       "    <tr>\n",
       "      <th>2</th>\n",
       "      <td>2021-02-01 00:00:00</td>\n",
       "      <td>2</td>\n",
       "      <td>1</td>\n",
       "      <td>Grocery</td>\n",
       "      <td>Noodles</td>\n",
       "    </tr>\n",
       "    <tr>\n",
       "      <th>3</th>\n",
       "      <td>2021-02-01 00:00:00</td>\n",
       "      <td>1</td>\n",
       "      <td>1</td>\n",
       "      <td>Grocery</td>\n",
       "      <td>King Crab</td>\n",
       "    </tr>\n",
       "    <tr>\n",
       "      <th>4</th>\n",
       "      <td>2021-03-01 00:00:00</td>\n",
       "      <td>1</td>\n",
       "      <td>1</td>\n",
       "      <td>Electronics</td>\n",
       "      <td>Ear Buds</td>\n",
       "    </tr>\n",
       "  </tbody>\n",
       "</table>\n",
       "</div>"
      ],
      "text/plain": [
       "                 Month  Sales Total  Store Product Type           Item\n",
       "0  2021-02-01 00:00:00            1      1  Electronics  Phone Charger\n",
       "1  2021-02-01 00:00:00            5      1      Grocery         Shrimp\n",
       "2  2021-02-01 00:00:00            2      1      Grocery        Noodles\n",
       "3  2021-02-01 00:00:00            1      1      Grocery      King Crab\n",
       "4  2021-03-01 00:00:00            1      1  Electronics       Ear Buds"
      ]
     },
     "execution_count": 18,
     "metadata": {},
     "output_type": "execute_result"
    }
   ],
   "source": [
    "retail.head()"
   ]
  },
  {
   "cell_type": "code",
   "execution_count": 20,
   "metadata": {
    "executionInfo": {
     "elapsed": 6,
     "status": "ok",
     "timestamp": 1663150567224,
     "user": {
      "displayName": "­안진우",
      "userId": "00390471621282821798"
     },
     "user_tz": -540
    },
    "id": "RNtD0oZIb1xZ"
   },
   "outputs": [
    {
     "data": {
      "text/plain": [
       "Electronics    49079\n",
       "Home Goods     39158\n",
       "Grocery        36989\n",
       "Name: Product Type, dtype: int64"
      ]
     },
     "execution_count": 20,
     "metadata": {},
     "output_type": "execute_result"
    }
   ],
   "source": [
    "retail['Product Type'].value_counts()"
   ]
  },
  {
   "cell_type": "code",
   "execution_count": null,
   "metadata": {},
   "outputs": [],
   "source": []
  }
 ],
 "metadata": {
  "colab": {
   "authorship_tag": "ABX9TyOrg8z8jxkrTlzYKGfmwpc8",
   "collapsed_sections": [],
   "provenance": []
  },
  "hide_input": false,
  "kernelspec": {
   "display_name": "Python 3 (ipykernel)",
   "language": "python",
   "name": "python3"
  },
  "language_info": {
   "codemirror_mode": {
    "name": "ipython",
    "version": 3
   },
   "file_extension": ".py",
   "mimetype": "text/x-python",
   "name": "python",
   "nbconvert_exporter": "python",
   "pygments_lexer": "ipython3",
   "version": "3.9.12"
  },
  "varInspector": {
   "cols": {
    "lenName": 16,
    "lenType": 16,
    "lenVar": 40
   },
   "kernels_config": {
    "python": {
     "delete_cmd_postfix": "",
     "delete_cmd_prefix": "del ",
     "library": "var_list.py",
     "varRefreshCmd": "print(var_dic_list())"
    },
    "r": {
     "delete_cmd_postfix": ") ",
     "delete_cmd_prefix": "rm(",
     "library": "var_list.r",
     "varRefreshCmd": "cat(var_dic_list()) "
    }
   },
   "types_to_exclude": [
    "module",
    "function",
    "builtin_function_or_method",
    "instance",
    "_Feature"
   ],
   "window_display": false
  }
 },
 "nbformat": 4,
 "nbformat_minor": 1
}
