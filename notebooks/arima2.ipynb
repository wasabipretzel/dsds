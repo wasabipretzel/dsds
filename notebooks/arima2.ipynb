{
 "cells": [
  {
   "cell_type": "code",
   "execution_count": 2,
   "metadata": {},
   "outputs": [],
   "source": [
    "# 0을 제거하고 단순선형회귀분석을 실시하였을 때, 결정계수를 보자\n",
    "import pandas as pd\n",
    "retail = pd.read_csv('../data/raw/Retail data.csv')"
   ]
  },
  {
   "cell_type": "code",
   "execution_count": 3,
   "metadata": {},
   "outputs": [
    {
     "data": {
      "text/html": [
       "<div>\n",
       "<style scoped>\n",
       "    .dataframe tbody tr th:only-of-type {\n",
       "        vertical-align: middle;\n",
       "    }\n",
       "\n",
       "    .dataframe tbody tr th {\n",
       "        vertical-align: top;\n",
       "    }\n",
       "\n",
       "    .dataframe thead th {\n",
       "        text-align: right;\n",
       "    }\n",
       "</style>\n",
       "<table border=\"1\" class=\"dataframe\">\n",
       "  <thead>\n",
       "    <tr style=\"text-align: right;\">\n",
       "      <th></th>\n",
       "      <th>Month</th>\n",
       "      <th>Sales Total</th>\n",
       "      <th>Store</th>\n",
       "      <th>Product Type</th>\n",
       "      <th>Item</th>\n",
       "    </tr>\n",
       "  </thead>\n",
       "  <tbody>\n",
       "    <tr>\n",
       "      <th>0</th>\n",
       "      <td>2021-02-01 00:00:00</td>\n",
       "      <td>1</td>\n",
       "      <td>1</td>\n",
       "      <td>Electronics</td>\n",
       "      <td>Phone Charger</td>\n",
       "    </tr>\n",
       "    <tr>\n",
       "      <th>1</th>\n",
       "      <td>2021-02-01 00:00:00</td>\n",
       "      <td>5</td>\n",
       "      <td>1</td>\n",
       "      <td>Grocery</td>\n",
       "      <td>Shrimp</td>\n",
       "    </tr>\n",
       "    <tr>\n",
       "      <th>2</th>\n",
       "      <td>2021-02-01 00:00:00</td>\n",
       "      <td>2</td>\n",
       "      <td>1</td>\n",
       "      <td>Grocery</td>\n",
       "      <td>Noodles</td>\n",
       "    </tr>\n",
       "    <tr>\n",
       "      <th>3</th>\n",
       "      <td>2021-02-01 00:00:00</td>\n",
       "      <td>1</td>\n",
       "      <td>1</td>\n",
       "      <td>Grocery</td>\n",
       "      <td>King Crab</td>\n",
       "    </tr>\n",
       "    <tr>\n",
       "      <th>4</th>\n",
       "      <td>2021-03-01 00:00:00</td>\n",
       "      <td>1</td>\n",
       "      <td>1</td>\n",
       "      <td>Electronics</td>\n",
       "      <td>Ear Buds</td>\n",
       "    </tr>\n",
       "  </tbody>\n",
       "</table>\n",
       "</div>"
      ],
      "text/plain": [
       "                 Month  Sales Total  Store Product Type           Item\n",
       "0  2021-02-01 00:00:00            1      1  Electronics  Phone Charger\n",
       "1  2021-02-01 00:00:00            5      1      Grocery         Shrimp\n",
       "2  2021-02-01 00:00:00            2      1      Grocery        Noodles\n",
       "3  2021-02-01 00:00:00            1      1      Grocery      King Crab\n",
       "4  2021-03-01 00:00:00            1      1  Electronics       Ear Buds"
      ]
     },
     "execution_count": 3,
     "metadata": {},
     "output_type": "execute_result"
    }
   ],
   "source": [
    "retail.head()"
   ]
  },
  {
   "cell_type": "code",
   "execution_count": 9,
   "metadata": {},
   "outputs": [],
   "source": [
    "store1 = retail[(retail['Store'] == 345) & (retail['Item'] == 'Keyboard')]"
   ]
  },
  {
   "cell_type": "code",
   "execution_count": 10,
   "metadata": {},
   "outputs": [
    {
     "data": {
      "text/html": [
       "<div>\n",
       "<style scoped>\n",
       "    .dataframe tbody tr th:only-of-type {\n",
       "        vertical-align: middle;\n",
       "    }\n",
       "\n",
       "    .dataframe tbody tr th {\n",
       "        vertical-align: top;\n",
       "    }\n",
       "\n",
       "    .dataframe thead th {\n",
       "        text-align: right;\n",
       "    }\n",
       "</style>\n",
       "<table border=\"1\" class=\"dataframe\">\n",
       "  <thead>\n",
       "    <tr style=\"text-align: right;\">\n",
       "      <th></th>\n",
       "      <th>Month</th>\n",
       "      <th>Sales Total</th>\n",
       "      <th>Store</th>\n",
       "      <th>Product Type</th>\n",
       "      <th>Item</th>\n",
       "    </tr>\n",
       "  </thead>\n",
       "  <tbody>\n",
       "    <tr>\n",
       "      <th>66826</th>\n",
       "      <td>2015-04-01 00:00:00</td>\n",
       "      <td>1</td>\n",
       "      <td>345</td>\n",
       "      <td>Electronics</td>\n",
       "      <td>Keyboard</td>\n",
       "    </tr>\n",
       "    <tr>\n",
       "      <th>66833</th>\n",
       "      <td>2017-03-01 00:00:00</td>\n",
       "      <td>1</td>\n",
       "      <td>345</td>\n",
       "      <td>Electronics</td>\n",
       "      <td>Keyboard</td>\n",
       "    </tr>\n",
       "    <tr>\n",
       "      <th>66848</th>\n",
       "      <td>2018-12-01 00:00:00</td>\n",
       "      <td>2</td>\n",
       "      <td>345</td>\n",
       "      <td>Electronics</td>\n",
       "      <td>Keyboard</td>\n",
       "    </tr>\n",
       "    <tr>\n",
       "      <th>66851</th>\n",
       "      <td>2019-03-01 00:00:00</td>\n",
       "      <td>1</td>\n",
       "      <td>345</td>\n",
       "      <td>Electronics</td>\n",
       "      <td>Keyboard</td>\n",
       "    </tr>\n",
       "    <tr>\n",
       "      <th>66855</th>\n",
       "      <td>2019-09-01 00:00:00</td>\n",
       "      <td>1</td>\n",
       "      <td>345</td>\n",
       "      <td>Electronics</td>\n",
       "      <td>Keyboard</td>\n",
       "    </tr>\n",
       "    <tr>\n",
       "      <th>66857</th>\n",
       "      <td>2019-11-01 00:00:00</td>\n",
       "      <td>1</td>\n",
       "      <td>345</td>\n",
       "      <td>Electronics</td>\n",
       "      <td>Keyboard</td>\n",
       "    </tr>\n",
       "    <tr>\n",
       "      <th>66863</th>\n",
       "      <td>2019-12-01 00:00:00</td>\n",
       "      <td>2</td>\n",
       "      <td>345</td>\n",
       "      <td>Electronics</td>\n",
       "      <td>Keyboard</td>\n",
       "    </tr>\n",
       "    <tr>\n",
       "      <th>66867</th>\n",
       "      <td>2020-08-01 00:00:00</td>\n",
       "      <td>1</td>\n",
       "      <td>345</td>\n",
       "      <td>Electronics</td>\n",
       "      <td>Keyboard</td>\n",
       "    </tr>\n",
       "  </tbody>\n",
       "</table>\n",
       "</div>"
      ],
      "text/plain": [
       "                     Month  Sales Total  Store Product Type      Item\n",
       "66826  2015-04-01 00:00:00            1    345  Electronics  Keyboard\n",
       "66833  2017-03-01 00:00:00            1    345  Electronics  Keyboard\n",
       "66848  2018-12-01 00:00:00            2    345  Electronics  Keyboard\n",
       "66851  2019-03-01 00:00:00            1    345  Electronics  Keyboard\n",
       "66855  2019-09-01 00:00:00            1    345  Electronics  Keyboard\n",
       "66857  2019-11-01 00:00:00            1    345  Electronics  Keyboard\n",
       "66863  2019-12-01 00:00:00            2    345  Electronics  Keyboard\n",
       "66867  2020-08-01 00:00:00            1    345  Electronics  Keyboard"
      ]
     },
     "execution_count": 10,
     "metadata": {},
     "output_type": "execute_result"
    }
   ],
   "source": [
    "store1"
   ]
  },
  {
   "cell_type": "code",
   "execution_count": 8,
   "metadata": {},
   "outputs": [
    {
     "data": {
      "text/plain": [
       "(4, 5)"
      ]
     },
     "execution_count": 8,
     "metadata": {},
     "output_type": "execute_result"
    }
   ],
   "source": [
    "store1.sort_values('Month').shape"
   ]
  },
  {
   "cell_type": "code",
   "execution_count": 12,
   "metadata": {},
   "outputs": [],
   "source": [
    "# 대부분 판매 기록이 적음. \n",
    "# 0이 대부분 -> \n",
    "import torch\n",
    "import torch.nn as nn"
   ]
  },
  {
   "cell_type": "code",
   "execution_count": 42,
   "metadata": {},
   "outputs": [],
   "source": [
    "# (N, C, H, W) N : batch, C : channel\n",
    "a1 = torch.rand((1, 1, 6, 4))"
   ]
  },
  {
   "cell_type": "code",
   "execution_count": 43,
   "metadata": {},
   "outputs": [
    {
     "data": {
      "text/plain": [
       "tensor([[[[8.9114e-01, 5.1155e-01, 6.8896e-01, 3.4755e-01],\n",
       "          [3.2920e-01, 1.0766e-01, 9.6317e-01, 7.1500e-01],\n",
       "          [5.9032e-04, 5.0193e-01, 9.7518e-01, 4.9221e-01],\n",
       "          [7.6147e-01, 2.1038e-01, 1.6891e-01, 7.8179e-01],\n",
       "          [2.8672e-01, 6.0912e-01, 1.0061e-01, 9.7441e-01],\n",
       "          [5.8569e-01, 5.4563e-02, 6.8747e-01, 9.3403e-01]]]])"
      ]
     },
     "execution_count": 43,
     "metadata": {},
     "output_type": "execute_result"
    }
   ],
   "source": [
    "a1"
   ]
  },
  {
   "cell_type": "code",
   "execution_count": 44,
   "metadata": {},
   "outputs": [],
   "source": [
    "layer1 = nn.Conv2d(1,1, kernel_size=2)"
   ]
  },
  {
   "cell_type": "code",
   "execution_count": 45,
   "metadata": {},
   "outputs": [],
   "source": [
    "a2 = layer1(a1)"
   ]
  },
  {
   "cell_type": "code",
   "execution_count": 46,
   "metadata": {},
   "outputs": [
    {
     "data": {
      "text/plain": [
       "torch.Size([1, 1, 5, 3])"
      ]
     },
     "execution_count": 46,
     "metadata": {},
     "output_type": "execute_result"
    }
   ],
   "source": [
    "a2.shape"
   ]
  },
  {
   "cell_type": "code",
   "execution_count": 39,
   "metadata": {},
   "outputs": [],
   "source": [
    "t1 = torch.rand(4, 4)"
   ]
  },
  {
   "cell_type": "code",
   "execution_count": 40,
   "metadata": {},
   "outputs": [
    {
     "data": {
      "text/plain": [
       "tensor([[0.4417, 0.4691, 0.3894, 0.0797],\n",
       "        [0.2806, 0.1864, 0.5413, 0.1471],\n",
       "        [0.0603, 0.3569, 0.5777, 0.1151],\n",
       "        [0.4028, 0.0068, 0.6061, 0.3355]])"
      ]
     },
     "execution_count": 40,
     "metadata": {},
     "output_type": "execute_result"
    }
   ],
   "source": [
    "t1"
   ]
  },
  {
   "cell_type": "code",
   "execution_count": 41,
   "metadata": {},
   "outputs": [
    {
     "data": {
      "text/plain": [
       "tensor([[[[0.4417, 0.4691, 0.3894, 0.0797],\n",
       "          [0.2806, 0.1864, 0.5413, 0.1471],\n",
       "          [0.0603, 0.3569, 0.5777, 0.1151],\n",
       "          [0.4028, 0.0068, 0.6061, 0.3355]]]])"
      ]
     },
     "execution_count": 41,
     "metadata": {},
     "output_type": "execute_result"
    }
   ],
   "source": [
    "t1.reshape(1, 1, 4, 4)"
   ]
  },
  {
   "cell_type": "code",
   "execution_count": 63,
   "metadata": {},
   "outputs": [],
   "source": [
    "t1 = torch.rand(1, 1, 7848)"
   ]
  },
  {
   "cell_type": "code",
   "execution_count": 64,
   "metadata": {},
   "outputs": [],
   "source": [
    "layer2 = nn.Conv1d(1, 1024, kernel_size=20)"
   ]
  },
  {
   "cell_type": "code",
   "execution_count": 65,
   "metadata": {},
   "outputs": [
    {
     "name": "stdout",
     "output_type": "stream",
     "text": [
      "torch.Size([1, 1024, 7829])\n"
     ]
    }
   ],
   "source": [
    "k1 = layer2(t1)\n",
    "print(k1.size())"
   ]
  },
  {
   "cell_type": "code",
   "execution_count": 56,
   "metadata": {},
   "outputs": [],
   "source": [
    "tmp = nn.MaxPool1d(20, stride=10)"
   ]
  },
  {
   "cell_type": "code",
   "execution_count": 67,
   "metadata": {},
   "outputs": [
    {
     "data": {
      "text/plain": [
       "torch.Size([1, 1024, 781])"
      ]
     },
     "execution_count": 67,
     "metadata": {},
     "output_type": "execute_result"
    }
   ],
   "source": [
    "tmp(k1).size()"
   ]
  },
  {
   "cell_type": "code",
   "execution_count": null,
   "metadata": {},
   "outputs": [],
   "source": []
  }
 ],
 "metadata": {
  "kernelspec": {
   "display_name": "Python 3.8.13 ('base')",
   "language": "python",
   "name": "python3"
  },
  "language_info": {
   "codemirror_mode": {
    "name": "ipython",
    "version": 3
   },
   "file_extension": ".py",
   "mimetype": "text/x-python",
   "name": "python",
   "nbconvert_exporter": "python",
   "pygments_lexer": "ipython3",
   "version": "3.8.13"
  },
  "orig_nbformat": 4,
  "vscode": {
   "interpreter": {
    "hash": "d4d1e4263499bec80672ea0156c357c1ee493ec2b1c70f0acce89fc37c4a6abe"
   }
  }
 },
 "nbformat": 4,
 "nbformat_minor": 2
}
