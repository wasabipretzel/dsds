{
 "cells": [
  {
   "cell_type": "markdown",
   "id": "b556904f",
   "metadata": {},
   "source": [
    "Pipeline"
   ]
  },
  {
   "cell_type": "markdown",
   "id": "d3bcd47d",
   "metadata": {},
   "source": [
    "1. 모든 store, item에 대한 정보를 cluster별로 확보한다(이 때 3개월 단위로 합산)\n",
    "2. y값에 따라 데이터를 다르게 구성한다 \n",
    "3. 모델을 apply하여 예측값 산출"
   ]
  },
  {
   "cell_type": "markdown",
   "id": "56ebb607",
   "metadata": {},
   "source": [
    "### 하나의 상점에 대한 예측 모델"
   ]
  },
  {
   "cell_type": "code",
   "execution_count": 169,
   "id": "6c02e09d",
   "metadata": {},
   "outputs": [],
   "source": [
    "import json\n",
    "\n",
    "with open('../data/preprocessed/3_month_retail.json', 'r') as f:\n",
    "    data = json.load(f)"
   ]
  },
  {
   "cell_type": "code",
   "execution_count": 170,
   "id": "58c0a493",
   "metadata": {
    "scrolled": true
   },
   "outputs": [
    {
     "data": {
      "text/plain": [
       "dict_keys(['1', '2', '3', '4', '5', '6', '7', '8', '9', '10', '11', '12', '13', '14', '15', '16', '17', '18', '19', '20', '21', '22', '23', '24', '25', '26', '27', '28', '29', '30', '31', '32', '33', '34', '35', '36', '37', '38', '39', '40', '41', '42', '43', '44', '45', '46', '47', '48', '49', '50', '51', '52', '53', '54', '55', '56', '57', '58', '59', '60', '61', '62', '63', '64', '65', '66', '67', '68', '69', '70', '71', '72', '73', '74', '75', '76', '77', '78', '79', '80', '81', '82', '83', '84', '85', '86', '87', '88', '89', '90', '91', '92', '93', '94', '95', '96', '97', '98', '99', '100', '101', '102', '103', '104', '105', '106', '107', '108', '109', '110', '111', '112', '113', '114', '115', '116', '117', '118', '119', '120', '121', '122', '123', '124', '125', '126', '127', '128', '129', '130', '131', '132', '133', '134', '135', '136', '137', '138', '139', '140', '141', '142', '143', '144', '145', '146', '147', '148', '149', '150', '151', '152', '153', '154', '155', '156', '157', '158', '159', '160', '161', '162', '163', '164', '165', '166', '167', '168', '169', '170', '171', '172', '173', '174', '175', '176', '177', '178', '179', '180', '181', '182', '183', '184', '185', '186', '187', '188', '189', '190', '191', '192', '193', '194', '195', '196', '197', '198', '199', '200', '201', '202', '203', '204', '205', '206', '207', '208', '209', '210', '211', '212', '213', '214', '215', '216', '217', '218', '219', '220', '221', '222', '223', '224', '225', '226', '227', '228', '229', '230', '231', '232', '233', '234', '235', '236', '237', '238', '239', '240', '241', '242', '243', '244', '245', '246', '247', '248', '249', '250', '251', '252', '253', '254', '255', '256', '257', '258', '259', '260', '261', '262', '263', '264', '265', '266', '267', '268', '269', '270', '271', '272', '273', '274', '275', '276', '277', '278', '279', '280', '281', '282', '283', '284', '285', '286', '287', '288', '289', '290', '291', '292', '293', '294', '295', '296', '297', '298', '299', '300', '301', '302', '303', '304', '305', '306', '307', '308', '309', '310', '311', '312', '313', '314', '315', '316', '317', '318', '319', '320', '321', '322', '323', '324', '325', '326', '327', '328', '329', '330', '331', '332', '333', '334', '335', '336', '337', '338', '339', '340', '341', '342', '343', '344', '345', '346', '347', '348', '349', '350', '351', '352', '353', '354', '355', '356', '357', '358', '359', '360', '361', '362', '363', '364', '365', '366', '367', '368', '369', '370', '371', '372', '373', '374', '375', '376', '377', '378', '379', '380', '381', '382', '383', '384', '385', '386', '387', '388', '389', '390', '391', '392', '393', '394', '395', '396', '397', '398', '399', '400', '401', '402', '403', '404', '405', '406', '407', '408', '409', '410', '411', '412', '413', '414', '415', '416', '417', '418', '419', '420', '421', '422', '423', '424', '425', '426', '427', '428', '429', '430', '431', '432', '433', '434', '435', '436', '437', '438', '439', '440', '441', '442', '443', '444', '445', '446', '447', '448', '449', '450', '451', '452', '453', '454', '455', '456', '457', '458', '459', '460', '461', '462', '463', '464', '465', '466', '467', '468', '469', '470', '471', '472', '473', '474', '475', '476', '477', '478', '479', '480', '481', '482', '483', '484', '485', '486', '487', '488', '489', '490', '491', '492', '493', '494', '495', '496', '497', '498', '499', '500', '501', '502', '503', '504', '505', '506', '507', '508', '509', '510', '511', '512', '513', '514', '515', '516', '517', '518', '519', '520', '521', '522', '523', '524', '525', '526', '527', '528', '529', '530', '531', '532', '533', '534', '535', '536', '537', '538', '539', '540', '541', '542', '543', '544', '545', '546', '547', '548', '549', '550', '551', '552', '553', '554', '555', '556', '557', '558', '559', '560', '561', '562', '563', '564', '565', '566', '567', '568', '569', '570', '571', '572', '573', '574', '575', '576', '577', '578', '579', '580', '581', '582', '583', '584', '585', '586', '587', '588', '589', '590', '591', '592', '593', '594', '595', '596', '597', '598', '599', '600', '601', '602', '603', '604', '605', '606', '607', '608', '609', '610', '611', '612', '613', '614', '615', '616', '617', '618', '619', '620', '621', '622', '623', '624', '625', '626', '627', '628', '629', '630', '631', '632', '633', '634', '635', '636', '637', '638', '639', '640', '641', '642'])"
      ]
     },
     "execution_count": 170,
     "metadata": {},
     "output_type": "execute_result"
    }
   ],
   "source": [
    "data.keys()"
   ]
  },
  {
   "cell_type": "code",
   "execution_count": 171,
   "id": "4809ac2a",
   "metadata": {},
   "outputs": [
    {
     "data": {
      "text/plain": [
       "29"
      ]
     },
     "execution_count": 171,
     "metadata": {},
     "output_type": "execute_result"
    }
   ],
   "source": [
    "len(data['1']['Shrimp'])\n",
    "#3개월로 끊었기에 N = 29"
   ]
  },
  {
   "cell_type": "code",
   "execution_count": 172,
   "id": "1d5073c8",
   "metadata": {},
   "outputs": [],
   "source": [
    "with open('../data/preprocessed/cluster_store.json','r') as f:\n",
    "    cluster = json.load(f)"
   ]
  },
  {
   "cell_type": "code",
   "execution_count": 173,
   "id": "6168fa9f",
   "metadata": {},
   "outputs": [
    {
     "data": {
      "text/plain": [
       "{'0': [1,\n",
       "  2,\n",
       "  3,\n",
       "  4,\n",
       "  5,\n",
       "  6,\n",
       "  7,\n",
       "  8,\n",
       "  9,\n",
       "  10,\n",
       "  11,\n",
       "  12,\n",
       "  13,\n",
       "  14,\n",
       "  15,\n",
       "  16,\n",
       "  17,\n",
       "  18,\n",
       "  19,\n",
       "  20,\n",
       "  21,\n",
       "  22,\n",
       "  23,\n",
       "  24,\n",
       "  25,\n",
       "  26,\n",
       "  27,\n",
       "  28,\n",
       "  29,\n",
       "  30,\n",
       "  31,\n",
       "  32,\n",
       "  33,\n",
       "  34,\n",
       "  35,\n",
       "  36,\n",
       "  37,\n",
       "  38,\n",
       "  39,\n",
       "  40,\n",
       "  41,\n",
       "  42,\n",
       "  43,\n",
       "  44,\n",
       "  45,\n",
       "  46,\n",
       "  47,\n",
       "  48,\n",
       "  49,\n",
       "  50,\n",
       "  51,\n",
       "  52,\n",
       "  53,\n",
       "  54,\n",
       "  55,\n",
       "  56,\n",
       "  57,\n",
       "  58,\n",
       "  59,\n",
       "  60,\n",
       "  61,\n",
       "  62,\n",
       "  63,\n",
       "  64,\n",
       "  65,\n",
       "  66,\n",
       "  67,\n",
       "  68,\n",
       "  69,\n",
       "  70,\n",
       "  71,\n",
       "  72,\n",
       "  73,\n",
       "  74,\n",
       "  75,\n",
       "  76,\n",
       "  77,\n",
       "  78,\n",
       "  79,\n",
       "  80,\n",
       "  81,\n",
       "  82,\n",
       "  83,\n",
       "  84,\n",
       "  85,\n",
       "  86,\n",
       "  87,\n",
       "  88,\n",
       "  89,\n",
       "  90,\n",
       "  91,\n",
       "  92,\n",
       "  93,\n",
       "  94,\n",
       "  95,\n",
       "  96,\n",
       "  97,\n",
       "  98,\n",
       "  99,\n",
       "  100,\n",
       "  101,\n",
       "  102,\n",
       "  103,\n",
       "  104,\n",
       "  105,\n",
       "  106,\n",
       "  107,\n",
       "  108,\n",
       "  109,\n",
       "  110,\n",
       "  111,\n",
       "  112,\n",
       "  113,\n",
       "  114,\n",
       "  115,\n",
       "  116,\n",
       "  117,\n",
       "  118,\n",
       "  119,\n",
       "  120,\n",
       "  121,\n",
       "  122,\n",
       "  123,\n",
       "  124,\n",
       "  128,\n",
       "  137,\n",
       "  138,\n",
       "  140,\n",
       "  141,\n",
       "  142,\n",
       "  143,\n",
       "  144,\n",
       "  145,\n",
       "  146,\n",
       "  148,\n",
       "  149,\n",
       "  150,\n",
       "  151,\n",
       "  152,\n",
       "  153,\n",
       "  154,\n",
       "  157,\n",
       "  158,\n",
       "  159,\n",
       "  160,\n",
       "  161,\n",
       "  162,\n",
       "  163,\n",
       "  164,\n",
       "  165,\n",
       "  166,\n",
       "  167,\n",
       "  168,\n",
       "  169,\n",
       "  170,\n",
       "  171,\n",
       "  172,\n",
       "  173,\n",
       "  174,\n",
       "  175,\n",
       "  176,\n",
       "  177,\n",
       "  178,\n",
       "  179,\n",
       "  180,\n",
       "  181,\n",
       "  182,\n",
       "  183,\n",
       "  184,\n",
       "  185,\n",
       "  186,\n",
       "  187,\n",
       "  188,\n",
       "  189,\n",
       "  190,\n",
       "  191,\n",
       "  192,\n",
       "  193,\n",
       "  194,\n",
       "  195,\n",
       "  196,\n",
       "  197,\n",
       "  198,\n",
       "  199,\n",
       "  201,\n",
       "  202,\n",
       "  203,\n",
       "  204,\n",
       "  205,\n",
       "  206,\n",
       "  207,\n",
       "  208,\n",
       "  209,\n",
       "  210,\n",
       "  211,\n",
       "  212,\n",
       "  213,\n",
       "  214,\n",
       "  215,\n",
       "  216,\n",
       "  217,\n",
       "  218,\n",
       "  219,\n",
       "  220,\n",
       "  221,\n",
       "  222,\n",
       "  223,\n",
       "  224,\n",
       "  225,\n",
       "  226,\n",
       "  227,\n",
       "  228,\n",
       "  229,\n",
       "  230,\n",
       "  231,\n",
       "  232,\n",
       "  233,\n",
       "  234,\n",
       "  235,\n",
       "  236,\n",
       "  237,\n",
       "  238,\n",
       "  239,\n",
       "  240,\n",
       "  241,\n",
       "  242,\n",
       "  243,\n",
       "  244,\n",
       "  245,\n",
       "  246,\n",
       "  247,\n",
       "  248,\n",
       "  249,\n",
       "  250,\n",
       "  251,\n",
       "  252,\n",
       "  253,\n",
       "  254,\n",
       "  255,\n",
       "  256,\n",
       "  257,\n",
       "  258,\n",
       "  259,\n",
       "  260,\n",
       "  261,\n",
       "  262,\n",
       "  263,\n",
       "  264,\n",
       "  265,\n",
       "  266,\n",
       "  267,\n",
       "  268,\n",
       "  269,\n",
       "  270,\n",
       "  271,\n",
       "  272,\n",
       "  273,\n",
       "  274,\n",
       "  275,\n",
       "  276,\n",
       "  280,\n",
       "  282,\n",
       "  283,\n",
       "  284,\n",
       "  285,\n",
       "  288,\n",
       "  289,\n",
       "  292,\n",
       "  295,\n",
       "  298,\n",
       "  300,\n",
       "  302,\n",
       "  303,\n",
       "  304,\n",
       "  307,\n",
       "  309,\n",
       "  310,\n",
       "  312,\n",
       "  313,\n",
       "  316,\n",
       "  320,\n",
       "  322,\n",
       "  324,\n",
       "  325,\n",
       "  326,\n",
       "  328,\n",
       "  329,\n",
       "  330,\n",
       "  331,\n",
       "  333,\n",
       "  335,\n",
       "  336,\n",
       "  337,\n",
       "  342,\n",
       "  343,\n",
       "  351,\n",
       "  352,\n",
       "  364,\n",
       "  368,\n",
       "  369,\n",
       "  373,\n",
       "  374,\n",
       "  375,\n",
       "  376,\n",
       "  377,\n",
       "  378,\n",
       "  379,\n",
       "  380,\n",
       "  382,\n",
       "  383,\n",
       "  384,\n",
       "  386,\n",
       "  387,\n",
       "  388,\n",
       "  391,\n",
       "  392,\n",
       "  393,\n",
       "  394,\n",
       "  395,\n",
       "  396,\n",
       "  397,\n",
       "  398,\n",
       "  401,\n",
       "  403,\n",
       "  409,\n",
       "  410,\n",
       "  412,\n",
       "  425,\n",
       "  426,\n",
       "  428,\n",
       "  431,\n",
       "  432,\n",
       "  433,\n",
       "  434,\n",
       "  435,\n",
       "  437,\n",
       "  440,\n",
       "  450,\n",
       "  452,\n",
       "  453,\n",
       "  454,\n",
       "  458,\n",
       "  461,\n",
       "  462,\n",
       "  464,\n",
       "  467,\n",
       "  469,\n",
       "  470,\n",
       "  473,\n",
       "  474,\n",
       "  475,\n",
       "  477,\n",
       "  478,\n",
       "  481,\n",
       "  482,\n",
       "  483,\n",
       "  486,\n",
       "  488,\n",
       "  491,\n",
       "  493,\n",
       "  494,\n",
       "  495,\n",
       "  498,\n",
       "  500,\n",
       "  501,\n",
       "  502,\n",
       "  504,\n",
       "  506,\n",
       "  507,\n",
       "  509,\n",
       "  511,\n",
       "  512,\n",
       "  513,\n",
       "  516,\n",
       "  517,\n",
       "  518,\n",
       "  519,\n",
       "  520,\n",
       "  524,\n",
       "  525,\n",
       "  528,\n",
       "  532,\n",
       "  533,\n",
       "  536,\n",
       "  539,\n",
       "  540,\n",
       "  545,\n",
       "  550,\n",
       "  551,\n",
       "  554,\n",
       "  555,\n",
       "  556,\n",
       "  557,\n",
       "  558,\n",
       "  559,\n",
       "  562,\n",
       "  563,\n",
       "  569,\n",
       "  570,\n",
       "  571,\n",
       "  573,\n",
       "  576,\n",
       "  577,\n",
       "  579,\n",
       "  580,\n",
       "  581,\n",
       "  582,\n",
       "  583,\n",
       "  584,\n",
       "  585,\n",
       "  588,\n",
       "  589,\n",
       "  591,\n",
       "  592,\n",
       "  593,\n",
       "  594,\n",
       "  595,\n",
       "  601,\n",
       "  603,\n",
       "  604,\n",
       "  605,\n",
       "  607,\n",
       "  612,\n",
       "  615,\n",
       "  619,\n",
       "  620,\n",
       "  621,\n",
       "  622,\n",
       "  625,\n",
       "  629,\n",
       "  630,\n",
       "  635,\n",
       "  638,\n",
       "  639,\n",
       "  640],\n",
       " '1': [492,\n",
       "  497,\n",
       "  499,\n",
       "  508,\n",
       "  510,\n",
       "  514,\n",
       "  515,\n",
       "  521,\n",
       "  523,\n",
       "  526,\n",
       "  527,\n",
       "  529,\n",
       "  530,\n",
       "  531,\n",
       "  534,\n",
       "  535,\n",
       "  537,\n",
       "  538,\n",
       "  541,\n",
       "  542,\n",
       "  543,\n",
       "  544,\n",
       "  548,\n",
       "  549,\n",
       "  552,\n",
       "  553,\n",
       "  560,\n",
       "  561,\n",
       "  564,\n",
       "  565,\n",
       "  568,\n",
       "  572,\n",
       "  575,\n",
       "  578,\n",
       "  586,\n",
       "  590,\n",
       "  596,\n",
       "  597,\n",
       "  599,\n",
       "  600,\n",
       "  602,\n",
       "  606,\n",
       "  609,\n",
       "  610,\n",
       "  611,\n",
       "  613,\n",
       "  614,\n",
       "  616,\n",
       "  617,\n",
       "  623,\n",
       "  624,\n",
       "  626,\n",
       "  627,\n",
       "  628,\n",
       "  631,\n",
       "  632,\n",
       "  634,\n",
       "  636,\n",
       "  637,\n",
       "  641,\n",
       "  642],\n",
       " '2': [505],\n",
       " '3': [125,\n",
       "  126,\n",
       "  127,\n",
       "  129,\n",
       "  130,\n",
       "  131,\n",
       "  132,\n",
       "  133,\n",
       "  134,\n",
       "  135,\n",
       "  136,\n",
       "  139,\n",
       "  147,\n",
       "  155,\n",
       "  156,\n",
       "  200,\n",
       "  277,\n",
       "  278,\n",
       "  279,\n",
       "  281,\n",
       "  286,\n",
       "  287,\n",
       "  290,\n",
       "  291,\n",
       "  293,\n",
       "  294,\n",
       "  296,\n",
       "  297,\n",
       "  299,\n",
       "  301,\n",
       "  305,\n",
       "  306,\n",
       "  308,\n",
       "  311,\n",
       "  314,\n",
       "  315,\n",
       "  317,\n",
       "  318,\n",
       "  319,\n",
       "  321,\n",
       "  323,\n",
       "  327,\n",
       "  332,\n",
       "  334,\n",
       "  338,\n",
       "  339,\n",
       "  340,\n",
       "  341,\n",
       "  344,\n",
       "  345,\n",
       "  346,\n",
       "  347,\n",
       "  348,\n",
       "  349,\n",
       "  350,\n",
       "  353,\n",
       "  354,\n",
       "  355,\n",
       "  356,\n",
       "  357,\n",
       "  358,\n",
       "  359,\n",
       "  360,\n",
       "  361,\n",
       "  362,\n",
       "  363,\n",
       "  365,\n",
       "  366,\n",
       "  367,\n",
       "  370,\n",
       "  371,\n",
       "  372,\n",
       "  381,\n",
       "  385,\n",
       "  389,\n",
       "  390,\n",
       "  399,\n",
       "  400,\n",
       "  402,\n",
       "  404,\n",
       "  405,\n",
       "  406,\n",
       "  407,\n",
       "  408,\n",
       "  411,\n",
       "  413,\n",
       "  414,\n",
       "  415,\n",
       "  416,\n",
       "  417,\n",
       "  418,\n",
       "  419,\n",
       "  420,\n",
       "  421,\n",
       "  422,\n",
       "  423,\n",
       "  424,\n",
       "  427,\n",
       "  429,\n",
       "  430,\n",
       "  436,\n",
       "  438,\n",
       "  439,\n",
       "  441,\n",
       "  442,\n",
       "  443,\n",
       "  444,\n",
       "  445,\n",
       "  446,\n",
       "  447,\n",
       "  448,\n",
       "  449,\n",
       "  451,\n",
       "  455,\n",
       "  456,\n",
       "  457,\n",
       "  459,\n",
       "  460,\n",
       "  463,\n",
       "  465,\n",
       "  466,\n",
       "  468,\n",
       "  471,\n",
       "  472,\n",
       "  476,\n",
       "  479,\n",
       "  480,\n",
       "  484,\n",
       "  485,\n",
       "  487,\n",
       "  489,\n",
       "  490,\n",
       "  496,\n",
       "  503,\n",
       "  522,\n",
       "  546,\n",
       "  547,\n",
       "  566,\n",
       "  567,\n",
       "  574,\n",
       "  587,\n",
       "  598,\n",
       "  608,\n",
       "  618,\n",
       "  633]}"
      ]
     },
     "execution_count": 173,
     "metadata": {},
     "output_type": "execute_result"
    }
   ],
   "source": [
    "cluster"
   ]
  },
  {
   "cell_type": "code",
   "execution_count": 174,
   "id": "0dc15d07",
   "metadata": {
    "collapsed": true
   },
   "outputs": [
    {
     "data": {
      "text/plain": [
       "[492,\n",
       " 497,\n",
       " 499,\n",
       " 508,\n",
       " 510,\n",
       " 514,\n",
       " 515,\n",
       " 521,\n",
       " 523,\n",
       " 526,\n",
       " 527,\n",
       " 529,\n",
       " 530,\n",
       " 531,\n",
       " 534,\n",
       " 535,\n",
       " 537,\n",
       " 538,\n",
       " 541,\n",
       " 542,\n",
       " 543,\n",
       " 544,\n",
       " 548,\n",
       " 549,\n",
       " 552,\n",
       " 553,\n",
       " 560,\n",
       " 561,\n",
       " 564,\n",
       " 565,\n",
       " 568,\n",
       " 572,\n",
       " 575,\n",
       " 578,\n",
       " 586,\n",
       " 590,\n",
       " 596,\n",
       " 597,\n",
       " 599,\n",
       " 600,\n",
       " 602,\n",
       " 606,\n",
       " 609,\n",
       " 610,\n",
       " 611,\n",
       " 613,\n",
       " 614,\n",
       " 616,\n",
       " 617,\n",
       " 623,\n",
       " 624,\n",
       " 626,\n",
       " 627,\n",
       " 628,\n",
       " 631,\n",
       " 632,\n",
       " 634,\n",
       " 636,\n",
       " 637,\n",
       " 641,\n",
       " 642]"
      ]
     },
     "execution_count": 174,
     "metadata": {},
     "output_type": "execute_result"
    }
   ],
   "source": [
    "cluster['1']"
   ]
  },
  {
   "cell_type": "code",
   "execution_count": 175,
   "id": "9f011598",
   "metadata": {},
   "outputs": [],
   "source": [
    "# 1번 클러스터의 첫 번째 상점인 492 상점의 품목들을 예측하는 모델을 해보자\n",
    "import torch\n",
    "from torch import nn, optim\n",
    "import torch.nn.functional as F\n",
    "from torch.utils.data import DataLoader, TensorDataset\n",
    "import numpy as np\n",
    "import pandas as pd\n",
    "from sklearn.metrics import mean_squared_error"
   ]
  },
  {
   "cell_type": "code",
   "execution_count": 176,
   "id": "3f61244f",
   "metadata": {},
   "outputs": [
    {
     "name": "stdout",
     "output_type": "stream",
     "text": [
      "torch.Size([36, 29])\n",
      "torch.Size([36, 28])\n"
     ]
    }
   ],
   "source": [
    "# 1번 cluster 내부의 상점들의\n",
    "# torch.cat((x, y, z), 0)\n",
    "# 1과 2 상점 두개만 우선 가져와서 해보자\n",
    "t1 = torch.tensor(list(data['1'].values()))\n",
    "t2 = torch.tensor(list(data['2'].values()))\n",
    "t3 = torch.cat((t1, t2),0)\n",
    "# X로 설정할때는 하나 빼야하니까 y가 shift되기 때문\n",
    "t4 = t3[:,:-1]\n",
    "\n",
    "print(t3.size())\n",
    "print(t4.size())"
   ]
  },
  {
   "cell_type": "code",
   "execution_count": 177,
   "id": "089f18c0",
   "metadata": {},
   "outputs": [
    {
     "name": "stdout",
     "output_type": "stream",
     "text": [
      "tensor([2., 3.])\n"
     ]
    }
   ],
   "source": [
    "k = torch.tensor([])\n",
    "k2 = torch.tensor([2,3])\n",
    "k3 = torch.cat((k,k2),0)\n",
    "print(k3)"
   ]
  },
  {
   "cell_type": "code",
   "execution_count": 178,
   "id": "a9f85fae",
   "metadata": {},
   "outputs": [],
   "source": [
    "# cluster 번호를 지정해주면, 거기 안의 데이터를 X로 return 해주는 함수를 만들자\n",
    "def cluster_dataset(cluster_num):\n",
    "    data_tensor = torch.tensor([])\n",
    "    for store_id in cluster[cluster_num]:\n",
    "        sub_tensor = torch.tensor(list(data[str(store_id)].values()))\n",
    "        data_tensor = torch.cat((data_tensor,sub_tensor),0)\n",
    "    return data_tensor[:,:-1].t()\n",
    "    "
   ]
  },
  {
   "cell_type": "code",
   "execution_count": 183,
   "id": "3f2d04d7",
   "metadata": {},
   "outputs": [],
   "source": [
    "X = cluster_dataset('3')"
   ]
  },
  {
   "cell_type": "code",
   "execution_count": 184,
   "id": "27a650c7",
   "metadata": {},
   "outputs": [
    {
     "data": {
      "text/plain": [
       "torch.Size([28, 2610])"
      ]
     },
     "execution_count": 184,
     "metadata": {},
     "output_type": "execute_result"
    }
   ],
   "source": [
    "X.size()"
   ]
  },
  {
   "cell_type": "code",
   "execution_count": 154,
   "id": "65e53f7c",
   "metadata": {},
   "outputs": [],
   "source": [
    "t1 = torch.tensor(list(data['492'].values()))"
   ]
  },
  {
   "cell_type": "code",
   "execution_count": 155,
   "id": "d0fac62d",
   "metadata": {},
   "outputs": [],
   "source": [
    "t2 = torch.tensor(list(data['492'].values()))"
   ]
  },
  {
   "cell_type": "code",
   "execution_count": 158,
   "id": "8abcd10a",
   "metadata": {},
   "outputs": [
    {
     "data": {
      "text/plain": [
       "torch.Size([36, 29])"
      ]
     },
     "execution_count": 158,
     "metadata": {},
     "output_type": "execute_result"
    }
   ],
   "source": [
    "torch.cat((t1, t2),0).size()"
   ]
  },
  {
   "cell_type": "code",
   "execution_count": 125,
   "id": "6522f3a1",
   "metadata": {},
   "outputs": [],
   "source": [
    "X = cluster_dataset('1')"
   ]
  },
  {
   "cell_type": "code",
   "execution_count": 126,
   "id": "388504cd",
   "metadata": {},
   "outputs": [
    {
     "data": {
      "text/plain": [
       "torch.Size([28, 1098])"
      ]
     },
     "execution_count": 126,
     "metadata": {},
     "output_type": "execute_result"
    }
   ],
   "source": [
    "X.size()"
   ]
  },
  {
   "cell_type": "code",
   "execution_count": 44,
   "id": "cf993762",
   "metadata": {},
   "outputs": [],
   "source": [
    "X = torch.FloatTensor(X)"
   ]
  },
  {
   "cell_type": "code",
   "execution_count": 45,
   "id": "59a29c05",
   "metadata": {},
   "outputs": [],
   "source": [
    "# making y\n",
    "# y는 492 값을 하나 shift(-1) 시킨 것임. \n",
    "y = torch.tensor(list(data['492'].values()))[-1][1:]"
   ]
  },
  {
   "cell_type": "code",
   "execution_count": 141,
   "id": "fa823c8a",
   "metadata": {},
   "outputs": [],
   "source": [
    "y = torch.tensor(data[str('492')]['Brush'][:]).float()"
   ]
  },
  {
   "cell_type": "code",
   "execution_count": 163,
   "id": "9a08a68d",
   "metadata": {},
   "outputs": [
    {
     "data": {
      "text/plain": [
       "torch.Size([6])"
      ]
     },
     "execution_count": 163,
     "metadata": {},
     "output_type": "execute_result"
    }
   ],
   "source": [
    "torch.tensor([0., 0., 0., 0., 0., 0.]).size()"
   ]
  },
  {
   "cell_type": "code",
   "execution_count": 165,
   "id": "e24b9757",
   "metadata": {},
   "outputs": [
    {
     "data": {
      "text/plain": [
       "torch.Size([10914])"
      ]
     },
     "execution_count": 165,
     "metadata": {},
     "output_type": "execute_result"
    }
   ],
   "source": [
    "torch.rand(642 * 17).size()"
   ]
  },
  {
   "cell_type": "code",
   "execution_count": 46,
   "id": "417bd363",
   "metadata": {},
   "outputs": [
    {
     "data": {
      "text/plain": [
       "dict_keys(['Bracket', 'Brush', 'Steak', 'Shrimp', 'Power Cord', 'Phone Charger', 'Paint', 'Noodles', 'Nails', 'Mouse', 'Milk', 'King Crab', 'Keyboard', 'Glue', 'Eggs', 'Ear Buds', 'Cereal', 'Tape'])"
      ]
     },
     "execution_count": 46,
     "metadata": {},
     "output_type": "execute_result"
    }
   ],
   "source": [
    "data['492'].keys()"
   ]
  },
  {
   "cell_type": "code",
   "execution_count": 47,
   "id": "f0cc6993",
   "metadata": {},
   "outputs": [
    {
     "data": {
      "text/plain": [
       "[0,\n",
       " 0,\n",
       " 1,\n",
       " 0,\n",
       " 0,\n",
       " 1,\n",
       " 1,\n",
       " 0,\n",
       " 0,\n",
       " 1,\n",
       " 1,\n",
       " 0,\n",
       " 1,\n",
       " 0,\n",
       " 1,\n",
       " 1,\n",
       " 1,\n",
       " 1,\n",
       " 0,\n",
       " 0,\n",
       " 0,\n",
       " 0,\n",
       " 0,\n",
       " 0,\n",
       " 0,\n",
       " 0,\n",
       " 0,\n",
       " 0,\n",
       " 0]"
      ]
     },
     "execution_count": 47,
     "metadata": {},
     "output_type": "execute_result"
    }
   ],
   "source": [
    "data['492']['Bracket']"
   ]
  },
  {
   "cell_type": "code",
   "execution_count": 48,
   "id": "22200d6f",
   "metadata": {},
   "outputs": [
    {
     "data": {
      "text/plain": [
       "[1,\n",
       " 0,\n",
       " 1,\n",
       " 0,\n",
       " 0,\n",
       " 0,\n",
       " 0,\n",
       " 0,\n",
       " 0,\n",
       " 0,\n",
       " 1,\n",
       " 0,\n",
       " 0,\n",
       " 1,\n",
       " 0,\n",
       " 1,\n",
       " 0,\n",
       " 1,\n",
       " 0,\n",
       " 0,\n",
       " 0,\n",
       " 0,\n",
       " 0,\n",
       " 0,\n",
       " 0,\n",
       " 0,\n",
       " 0,\n",
       " 0]"
      ]
     },
     "execution_count": 48,
     "metadata": {},
     "output_type": "execute_result"
    }
   ],
   "source": [
    "list(data['492'].values())[-1][1:]"
   ]
  },
  {
   "cell_type": "code",
   "execution_count": 49,
   "id": "ab535a94",
   "metadata": {},
   "outputs": [],
   "source": [
    "y = y.float()"
   ]
  },
  {
   "cell_type": "code",
   "execution_count": 75,
   "id": "9102bff2",
   "metadata": {},
   "outputs": [],
   "source": [
    "X_train = X[:26]\n",
    "y_train = y[:26]\n",
    "\n",
    "X_test = X[26:]\n",
    "y_test = y[26:]\n",
    "\n",
    "dataset_train = TensorDataset(X_train, y_train)\n",
    "dataset_test = TensorDataset(X_test, y_test)\n",
    "\n",
    "train_dataloader = DataLoader(dataset_train, batch_size=3, shuffle=False)\n",
    "test_dataloader = DataLoader(dataset_test, batch_size=1, shuffle=False)"
   ]
  },
  {
   "cell_type": "code",
   "execution_count": 137,
   "id": "5a855dbb",
   "metadata": {},
   "outputs": [
    {
     "data": {
      "text/plain": [
       "torch.Size([1, 1098])"
      ]
     },
     "execution_count": 137,
     "metadata": {},
     "output_type": "execute_result"
    }
   ],
   "source": [
    "X[27:].size()"
   ]
  },
  {
   "cell_type": "code",
   "execution_count": 129,
   "id": "7296a4c3",
   "metadata": {},
   "outputs": [],
   "source": [
    "device = torch.device(\"cuda:0\" if torch.cuda.is_available() else \"cpu\")\n",
    "X_train = X_train.to(device)"
   ]
  },
  {
   "cell_type": "code",
   "execution_count": 76,
   "id": "8903f69b",
   "metadata": {},
   "outputs": [],
   "source": [
    "class DSModel(nn.Module):\n",
    "    def __init__(self):\n",
    "        super(DSModel, self).__init__()\n",
    "        # self.layer1 = torch.nn.Sequential(\n",
    "        #     torch.nn.Conv1d(1098, 256, kernel_size=2),\n",
    "        #     torch.nn.ReLU(),\n",
    "        #     torch.nn.MaxPool1d(kernel_size=2, stride=1)\n",
    "        # )\n",
    "        self.fc1 = nn.Linear(1098,256)\n",
    "        self.fc2 = nn.Linear(256,64)\n",
    "        self.fc3 = nn.Linear(64,8)\n",
    "        self.fc4 = nn.Linear(8,1)\n",
    "    \n",
    "    def forward(self, x):\n",
    "        # x = F.relu(self.layer1(x))\n",
    "        x = F.relu(self.fc1(x))\n",
    "        x = F.relu(self.fc2(x))\n",
    "        x = F.relu(self.fc3(x))\n",
    "        x = F.relu(self.fc4(x))\n",
    "        return x\n"
   ]
  },
  {
   "cell_type": "code",
   "execution_count": 77,
   "id": "ca0fc276",
   "metadata": {},
   "outputs": [],
   "source": [
    "model = DSModel()\n",
    "criterion = nn.MSELoss()"
   ]
  },
  {
   "cell_type": "code",
   "execution_count": 78,
   "id": "52c8d96a",
   "metadata": {},
   "outputs": [],
   "source": [
    "optimizer = optim.Adam(model.parameters(), lr = 0.001, weight_decay = 1e-7)"
   ]
  },
  {
   "cell_type": "code",
   "execution_count": 79,
   "id": "c6c7dff7",
   "metadata": {},
   "outputs": [
    {
     "data": {
      "text/plain": [
       "DSModel(\n",
       "  (fc1): Linear(in_features=1098, out_features=256, bias=True)\n",
       "  (fc2): Linear(in_features=256, out_features=64, bias=True)\n",
       "  (fc3): Linear(in_features=64, out_features=8, bias=True)\n",
       "  (fc4): Linear(in_features=8, out_features=1, bias=True)\n",
       ")"
      ]
     },
     "execution_count": 79,
     "metadata": {},
     "output_type": "execute_result"
    }
   ],
   "source": [
    "DSModel()"
   ]
  },
  {
   "cell_type": "code",
   "execution_count": 80,
   "id": "daafb493",
   "metadata": {},
   "outputs": [
    {
     "name": "stderr",
     "output_type": "stream",
     "text": [
      "/opt/conda/lib/python3.8/site-packages/torch/nn/modules/loss.py:530: UserWarning: Using a target size (torch.Size([3])) that is different to the input size (torch.Size([3, 1])). This will likely lead to incorrect results due to broadcasting. Please ensure they have the same size.\n",
      "  return F.mse_loss(input, target, reduction=self.reduction)\n",
      "/opt/conda/lib/python3.8/site-packages/torch/nn/modules/loss.py:530: UserWarning: Using a target size (torch.Size([2])) that is different to the input size (torch.Size([2, 1])). This will likely lead to incorrect results due to broadcasting. Please ensure they have the same size.\n",
      "  return F.mse_loss(input, target, reduction=self.reduction)\n"
     ]
    }
   ],
   "source": [
    "loss_ = []\n",
    "for epoch in range(20):\n",
    "    running_loss = 0.0\n",
    "    for i, data in enumerate(train_dataloader,0):\n",
    "        inputs, value = data\n",
    "        optimizer.zero_grad()\n",
    "        outputs = model(inputs)\n",
    "        loss = criterion(outputs, value)\n",
    "        loss.backward()\n",
    "        optimizer.step()\n",
    "\n",
    "        running_loss += loss.item()\n",
    "    loss_.append(running_loss)"
   ]
  },
  {
   "cell_type": "code",
   "execution_count": 81,
   "id": "4b31f6d7",
   "metadata": {},
   "outputs": [],
   "source": [
    "import matplotlib.pyplot as plt"
   ]
  },
  {
   "cell_type": "code",
   "execution_count": 82,
   "id": "df0d7769",
   "metadata": {},
   "outputs": [
    {
     "data": {
      "image/png": "[encoded data removed]",
      "text/plain": [
       "<Figure size 432x288 with 1 Axes>"
      ]
     },
     "metadata": {
      "needs_background": "light"
     },
     "output_type": "display_data"
    }
   ],
   "source": [
    "plt.plot(loss_)\n",
    "plt.show()"
   ]
  },
  {
   "cell_type": "code",
   "execution_count": 83,
   "id": "97f9341b",
   "metadata": {},
   "outputs": [],
   "source": [
    "def evaluation(dataloader):\n",
    "    predictions = torch.tensor([], dtype=torch.float)\n",
    "    actual = torch.tensor([], dtype=torch.float)\n",
    "\n",
    "    with torch.no_grad():\n",
    "        model.eval()\n",
    "\n",
    "        for data in dataloader:\n",
    "            inputs, values = data\n",
    "            outputs = model(inputs)\n",
    "            predictions = torch.cat((predictions, outputs),0)\n",
    "            actual = torch.cat((actual, values),0)\n",
    "        predictions = predictions.numpy()\n",
    "        actual = actual.numpy()\n",
    "        rmse = np.sqrt(mean_squared_error(predictions, actual))\n",
    "    return rmse, predictions, actual"
   ]
  },
  {
   "cell_type": "code",
   "execution_count": 61,
   "id": "64bf6012",
   "metadata": {},
   "outputs": [
    {
     "name": "stdout",
     "output_type": "stream",
     "text": [
      "train rmse:0.4803844690322876\n",
      "test rmse:0.0\n"
     ]
    }
   ],
   "source": [
    "train_rmse, pre1, ac1 = evaluation(train_dataloader)\n",
    "test_rmse, pre2, ac2 = evaluation(test_dataloader)\n",
    "\n",
    "print(f'train rmse:{train_rmse}')\n",
    "print(f'test rmse:{test_rmse}')"
   ]
  },
  {
   "cell_type": "code",
   "execution_count": 62,
   "id": "d5acee4f",
   "metadata": {},
   "outputs": [
    {
     "data": {
      "text/plain": [
       "array([[0.],\n",
       "       [0.]], dtype=float32)"
      ]
     },
     "execution_count": 62,
     "metadata": {},
     "output_type": "execute_result"
    }
   ],
   "source": [
    "pre2"
   ]
  },
  {
   "cell_type": "code",
   "execution_count": 63,
   "id": "add740e8",
   "metadata": {},
   "outputs": [
    {
     "data": {
      "text/plain": [
       "array([0., 0.], dtype=float32)"
      ]
     },
     "execution_count": 63,
     "metadata": {},
     "output_type": "execute_result"
    }
   ],
   "source": [
    "ac2"
   ]
  },
  {
   "cell_type": "code",
   "execution_count": 23,
   "id": "03f41606",
   "metadata": {},
   "outputs": [
    {
     "ename": "NameError",
     "evalue": "name 'X_test' is not defined",
     "output_type": "error",
     "traceback": [
      "\u001b[0;31m---------------------------------------------------------------------------\u001b[0m",
      "\u001b[0;31mNameError\u001b[0m                                 Traceback (most recent call last)",
      "\u001b[1;32m/home/work/.dsproject/notebooks/Modeling.ipynb Cell 30'\u001b[0m in \u001b[0;36m<cell line: 1>\u001b[0;34m()\u001b[0m\n\u001b[0;32m----> <a href='vscode-notebook-cell://dlspace.kt.co.kr:10434/home/work/.dsproject/notebooks/Modeling.ipynb#ch0000026vscode-remote?line=0'>1</a>\u001b[0m X_test\n",
      "\u001b[0;31mNameError\u001b[0m: name 'X_test' is not defined"
     ]
    }
   ],
   "source": [
    "X_test"
   ]
  },
  {
   "cell_type": "code",
   "execution_count": 65,
   "id": "7f1a7742",
   "metadata": {},
   "outputs": [
    {
     "data": {
      "text/plain": [
       "tensor([0., 2., 0.,  ..., 1., 0., 0.])"
      ]
     },
     "execution_count": 65,
     "metadata": {},
     "output_type": "execute_result"
    }
   ],
   "source": [
    "X_test[0]"
   ]
  },
  {
   "cell_type": "code",
   "execution_count": 86,
   "id": "4c9dcf4b",
   "metadata": {},
   "outputs": [
    {
     "data": {
      "text/plain": [
       "tensor([0.], grad_fn=<ReluBackward0>)"
      ]
     },
     "execution_count": 86,
     "metadata": {},
     "output_type": "execute_result"
    }
   ],
   "source": [
    "model(X_test[0])"
   ]
  },
  {
   "cell_type": "code",
   "execution_count": 98,
   "id": "9392ae35",
   "metadata": {},
   "outputs": [
    {
     "data": {
      "text/plain": [
       "[0.0]"
      ]
     },
     "execution_count": 98,
     "metadata": {},
     "output_type": "execute_result"
    }
   ],
   "source": [
    "torch.round(model(X_test[0])).tolist()"
   ]
  },
  {
   "cell_type": "code",
   "execution_count": 130,
   "id": "c5ca4402",
   "metadata": {},
   "outputs": [
    {
     "data": {
      "text/plain": [
       "tensor([])"
      ]
     },
     "execution_count": 130,
     "metadata": {},
     "output_type": "execute_result"
    }
   ],
   "source": [
    "torch.tensor([])"
   ]
  },
  {
   "cell_type": "code",
   "execution_count": 133,
   "id": "4e00235b",
   "metadata": {},
   "outputs": [
    {
     "data": {
      "text/plain": [
       "tensor([[0.9142]])"
      ]
     },
     "execution_count": 133,
     "metadata": {},
     "output_type": "execute_result"
    }
   ],
   "source": [
    "torch.rand((1,1))"
   ]
  },
  {
   "cell_type": "code",
   "execution_count": null,
   "id": "c0264209",
   "metadata": {},
   "outputs": [],
   "source": []
  }
 ],
 "metadata": {
  "hide_input": false,
  "kernelspec": {
   "display_name": "Python 3.8.13 ('base')",
   "language": "python",
   "name": "python3"
  },
  "language_info": {
   "codemirror_mode": {
    "name": "ipython",
    "version": 3
   },
   "file_extension": ".py",
   "mimetype": "text/x-python",
   "name": "python",
   "nbconvert_exporter": "python",
   "pygments_lexer": "ipython3",
   "version": "3.8.13"
  },
  "varInspector": {
   "cols": {
    "lenName": 16,
    "lenType": 16,
    "lenVar": 40
   },
   "kernels_config": {
    "python": {
     "delete_cmd_postfix": "",
     "delete_cmd_prefix": "del ",
     "library": "var_list.py",
     "varRefreshCmd": "print(var_dic_list())"
    },
    "r": {
     "delete_cmd_postfix": ") ",
     "delete_cmd_prefix": "rm(",
     "library": "var_list.r",
     "varRefreshCmd": "cat(var_dic_list()) "
    }
   },
   "types_to_exclude": [
    "module",
    "function",
    "builtin_function_or_method",
    "instance",
    "_Feature"
   ],
   "window_display": false
  },
  "vscode": {
   "interpreter": {
    "hash": "d4d1e4263499bec80672ea0156c357c1ee493ec2b1c70f0acce89fc37c4a6abe"
   }
  }
 },
 "nbformat": 4,
 "nbformat_minor": 5
}
